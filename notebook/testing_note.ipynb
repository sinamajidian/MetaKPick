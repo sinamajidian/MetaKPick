{
 "cells": [
  {
   "cell_type": "code",
   "execution_count": 3,
   "id": "2f750c3e-9902-4c21-8758-80fea1e49fc4",
   "metadata": {},
   "outputs": [],
   "source": [
    "b=2\n",
    "import pandas as pd\n",
    "import os"
   ]
  },
  {
   "cell_type": "code",
   "execution_count": null,
   "id": "53d13821",
   "metadata": {},
   "outputs": [
    {
     "ename": "NameError",
     "evalue": "name 'merged' is not defined",
     "output_type": "error",
     "traceback": [
      "\u001b[0;31m---------------------------------------------------------------------------\u001b[0m",
      "\u001b[0;31mNameError\u001b[0m                                 Traceback (most recent call last)",
      "Cell \u001b[0;32mIn[10], line 29\u001b[0m\n\u001b[1;32m     26\u001b[0m     \u001b[38;5;28;01mreturn\u001b[39;00m merged2a, readids_max\n\u001b[1;32m     28\u001b[0m num_max\u001b[38;5;241m=\u001b[39m\u001b[38;5;241m15\u001b[39m\n\u001b[0;32m---> 29\u001b[0m merged2a, readids_max \u001b[38;5;241m=\u001b[39m limit_read_per_genome(\u001b[43mmerged\u001b[49m,num_max)\n",
      "\u001b[0;31mNameError\u001b[0m: name 'merged' is not defined"
     ]
    }
   ],
   "source": []
  },
  {
   "cell_type": "code",
   "execution_count": null,
   "id": "f416e06e",
   "metadata": {},
   "outputs": [],
   "source": []
  },
  {
   "cell_type": "code",
   "execution_count": null,
   "id": "9dcab6fb",
   "metadata": {},
   "outputs": [],
   "source": []
  },
  {
   "cell_type": "code",
   "execution_count": 8,
   "id": "8f9b189a",
   "metadata": {},
   "outputs": [
    {
     "name": "stdout",
     "output_type": "stream",
     "text": [
      "Tree file:  ../../files/nodes.dmp\n",
      "Read the tree file\n",
      "Parsed the tree file. Size of info:  2667703 Size of Tree:  241610\n",
      "Number of genomes/strain  33646 in kraken index\n",
      "Number of tax ids 52229 353816\n",
      "Genome tax not found in kraken tree [3024248, 2778655, 386490]\n"
     ]
    }
   ],
   "source": [
    "\n",
    "import pandas as pd\n",
    "in_folder= \"../../files/\"\n",
    "tree_file=in_folder+\"nodes.dmp\"\n",
    "tax_genome_file= in_folder + \"seqid2taxid.map_tax_uniq\"\n",
    "\n",
    "info, Tree, tax_index, tax_genome = get_tax_info(tree_file,tax_genome_file)"
   ]
  },
  {
   "cell_type": "code",
   "execution_count": null,
   "id": "f6e0ff4e",
   "metadata": {},
   "outputs": [],
   "source": []
  },
  {
   "cell_type": "code",
   "execution_count": null,
   "id": "9b632617",
   "metadata": {},
   "outputs": [],
   "source": []
  },
  {
   "cell_type": "code",
   "execution_count": null,
   "id": "c9d323a3",
   "metadata": {},
   "outputs": [
    {
     "name": "stdout",
     "output_type": "stream",
     "text": [
      "tax 3024248\n",
      "tax 2778655\n",
      "tax 386490\n",
      "number of paths 33643\n",
      "52229 52229\n"
     ]
    }
   ],
   "source": [
    "\n",
    "tax2path, tax2depth = get_tax2path(tax_genome, info, parents)\n"
   ]
  },
  {
   "cell_type": "code",
   "execution_count": null,
   "id": "78c9f401",
   "metadata": {},
   "outputs": [],
   "source": []
  },
  {
   "cell_type": "code",
   "execution_count": null,
   "id": "52269f38-cd5e-463f-8f56-b148864d6a7c",
   "metadata": {},
   "outputs": [
    {
     "name": "stdout",
     "output_type": "stream",
     "text": [
      "Read the tree file\n",
      "Parsed the tree file. Size of info:  2667703 Size of Tree:  241610\n"
     ]
    }
   ],
   "source": [
    "\n",
    "\n",
    "\n"
   ]
  },
  {
   "cell_type": "code",
   "execution_count": null,
   "id": "4c63fadb",
   "metadata": {},
   "outputs": [],
   "source": []
  }
 ],
 "metadata": {
  "kernelspec": {
   "display_name": "lca",
   "language": "python",
   "name": "python3"
  },
  "language_info": {
   "codemirror_mode": {
    "name": "ipython",
    "version": 3
   },
   "file_extension": ".py",
   "mimetype": "text/x-python",
   "name": "python",
   "nbconvert_exporter": "python",
   "pygments_lexer": "ipython3",
   "version": "3.12.8"
  }
 },
 "nbformat": 4,
 "nbformat_minor": 5
}
