{
 "cells": [
  {
   "cell_type": "code",
   "execution_count": 16,
   "id": "2f750c3e-9902-4c21-8758-80fea1e49fc4",
   "metadata": {},
   "outputs": [
    {
     "name": "stderr",
     "output_type": "stream",
     "text": [
      "2025-09-02 19:54:35,096 - INFO - hi\n"
     ]
    }
   ],
   "source": [
    "b=2\n",
    "import pandas as pd\n",
    "import os\n",
    "import logging\n",
    "from collections import Counter\n",
    "\n",
    "logging.basicConfig(level=logging.DEBUG,format='%(asctime)s - %(levelname)s - %(message)s')\n",
    "logging.info(\"hi\")\n"
   ]
  },
  {
   "cell_type": "code",
   "execution_count": 17,
   "id": "e51c9479",
   "metadata": {},
   "outputs": [],
   "source": [
    "\n",
    "import sys\n",
    "sys.path.append(\"../metakpick/\")\n",
    "\n",
    "import _utils_tree, _utils_kraken,_classifier, _utils\n",
    "# from _utils  import get_features_read\n",
    "\n"
   ]
  },
  {
   "cell_type": "code",
   "execution_count": 6,
   "id": "891e8f9a",
   "metadata": {},
   "outputs": [
    {
     "name": "stderr",
     "output_type": "stream",
     "text": [
      "2025-09-02 19:47:07,248 - DEBUG - Tree file: /vast/blangme2/smajidi5/metagenomics/metakpick_project/MetaKPick/../files/nodes.dmp\n",
      "2025-09-02 19:47:11,147 - DEBUG - Read the tree file\n",
      "2025-09-02 19:47:22,925 - DEBUG - Parsed the tree file. Size of info: 2667703, Size of Tree: 241610\n",
      "2025-09-02 19:47:22,935 - DEBUG - Number of genomes/strains 33646 in kraken index.\n",
      "2025-09-02 19:47:23,413 - DEBUG - Number of unqiue tax ids:52229, set size after removing duplicates: 353816\n",
      "2025-09-02 19:47:23,414 - DEBUG - Genome tax not found in kraken tree [3024248, 2778655, 386490]\n"
     ]
    }
   ],
   "source": [
    "workingdir=\"/vast/blangme2/smajidi5/metagenomics/metakpick_project/MetaKPick/\"\n",
    "in_folder= workingdir+\"../files/\"\n",
    "tree_file=in_folder+\"nodes.dmp\"\n",
    "tax_genome_file= in_folder + \"seqid2taxid.map_tax_uniq\"\n",
    "\n",
    "info, Tree, tax_index, tax_genome, parents, tree_df = _utils_tree.get_tax_info(tree_file,tax_genome_file)    \n",
    "\n",
    "\n"
   ]
  },
  {
   "cell_type": "code",
   "execution_count": 7,
   "id": "84263834",
   "metadata": {},
   "outputs": [
    {
     "name": "stderr",
     "output_type": "stream",
     "text": [
      "2025-09-02 19:47:24,217 - DEBUG - tax not found in kraken tree: [3024248, 2778655, 386490]\n",
      "2025-09-02 19:47:24,219 - DEBUG - number of paths 33643\n",
      "2025-09-02 19:47:24,295 - DEBUG - number of tax2path 52229 52229\n"
     ]
    }
   ],
   "source": [
    "\n",
    "tax2path, tax2depth = _utils_tree.get_tax2path(tax_genome, info, parents)\n"
   ]
  },
  {
   "cell_type": "code",
   "execution_count": 8,
   "id": "3f889cd5",
   "metadata": {},
   "outputs": [
    {
     "name": "stderr",
     "output_type": "stream",
     "text": [
      "2025-09-02 19:47:25,337 - INFO - Loading the model: /vast/blangme2/smajidi5/metagenomics/metakpick_project/files/Random_Forest_regression_models20250825_093808.pkl\n",
      "2025-09-02 19:47:25,341 - INFO - Model loaded{'k17': RandomForestRegressor(max_features=0.8, max_leaf_nodes=50, n_estimators=1000,\n",
      "                      n_jobs=20, random_state=14, verbose=True), 'k19': RandomForestRegressor(max_features=0.8, max_leaf_nodes=50, n_estimators=1000,\n",
      "                      n_jobs=20, random_state=14, verbose=True), 'k21': RandomForestRegressor(max_features=0.8, max_leaf_nodes=50, n_estimators=1000,\n",
      "                      n_jobs=20, random_state=14, verbose=True), 'k23': RandomForestRegressor(max_features=0.8, max_leaf_nodes=50, n_estimators=1000,\n",
      "                      n_jobs=20, random_state=14, verbose=True), 'k25': RandomForestRegressor(max_features=0.8, max_leaf_nodes=50, n_estimators=1000,\n",
      "                      n_jobs=20, random_state=14, verbose=True), 'k27': RandomForestRegressor(max_features=0.8, max_leaf_nodes=50, n_estimators=1000,\n",
      "                      n_jobs=20, random_state=14, verbose=True), 'k29': RandomForestRegressor(max_features=0.8, max_leaf_nodes=50, n_estimators=1000,\n",
      "                      n_jobs=20, random_state=14, verbose=True), 'k31': RandomForestRegressor(max_features=0.8, max_leaf_nodes=50, n_estimators=1000,\n",
      "                      n_jobs=20, random_state=14, verbose=True)}\n"
     ]
    }
   ],
   "source": [
    "import pickle\n",
    "model_folder = \"/vast/blangme2/smajidi5/metagenomics/metakpick_project/files/\"\n",
    "model_file = model_folder+\"Random_Forest_regression_models20250825_093808.pkl\"\n",
    "loaded_regression_dic= pickle.load(open(model_file, \"rb\")) # [0] # this is temprorary due to a mistke  remove \n",
    "\n",
    "logging.info(\"Loading the model: \"+model_file)\n",
    "logging.info(\"Model loaded\"+str(loaded_regression_dic))"
   ]
  },
  {
   "cell_type": "code",
   "execution_count": 9,
   "id": "c9e4870b",
   "metadata": {},
   "outputs": [
    {
     "name": "stderr",
     "output_type": "stream",
     "text": [
      "2025-09-02 19:47:25,350 - INFO - Cases in the input for classification intersected with the kmer list: ['k19', 'k21', 'k23', 'k25', 'k27', 'k29', 'k31']\n",
      "2025-09-02 19:47:25,351 - INFO - Cases in the input for classification: ['k17', 'k19', 'k21', 'k23', 'k25', 'k27', 'k29', 'k31']\n",
      "2025-09-02 19:47:25,352 - INFO - Cases in the model: ['k17', 'k19', 'k21', 'k23', 'k25', 'k27', 'k29', 'k31']\n",
      "2025-09-02 19:47:25,353 - WARNING - Working on the intersection of cases in the input for classification and in the model: ['k19', 'k21', 'k23', 'k25', 'k27', 'k29', 'k31']\n"
     ]
    }
   ],
   "source": [
    "\n",
    "kraken_output_folder=\"../../../changek/simulatation/classification_pbsim/max15/\"\n",
    "cases_classify =[i.split(\"_\")[0] for i in os.listdir(kraken_output_folder) if i.endswith('_out')]\n",
    "cases_model= list(loaded_regression_dic.keys())\n",
    "cases_classify_intersect=sorted(list(set(cases_classify).intersection(set(cases_model))))\n",
    "kmer_list=[19,21,23,25,27,29, 31]\n",
    "if kmer_list:   \n",
    "    kmer_list_set=set(['k'+str(kmer) for kmer in kmer_list])\n",
    "    cases_classify_intersect=sorted(list(set(cases_classify_intersect).intersection(set(kmer_list_set))))\n",
    "logging.info(\"Cases in the input for classification intersected with the kmer list: \"+str(cases_classify_intersect))    \n",
    "    \n",
    "logging.info(\"Cases in the input for classification: \"+str(cases_classify))\n",
    "logging.info(\"Cases in the model: \"+str(cases_model))\n",
    "logging.warning(\"Working on the intersection of cases in the input for classification and in the model: \"+str(cases_classify_intersect))\n",
    "\n"
   ]
  },
  {
   "cell_type": "code",
   "execution_count": null,
   "id": "075f6122",
   "metadata": {},
   "outputs": [],
   "source": []
  },
  {
   "cell_type": "code",
   "execution_count": 10,
   "id": "1f182123",
   "metadata": {},
   "outputs": [
    {
     "name": "stderr",
     "output_type": "stream",
     "text": [
      "2025-09-02 19:47:25,361 - INFO - Reading the kraken kmers for these cases\n",
      "2025-09-02 19:47:25,362 - INFO - Reading kraken's k-mer count per tax from: ../../../changek/simulatation/classification_pbsim/max15/\n",
      "2025-09-02 19:47:25,362 - INFO - Reading kraken file for case: k19\n",
      "2025-09-02 19:50:36,592 - INFO - Number of reads for case: k19 is: 86202\n",
      "2025-09-02 19:50:36,594 - INFO - Reading kraken file for case: k21\n",
      "2025-09-02 19:51:33,465 - INFO - Number of reads for case: k21 is: 86202\n",
      "2025-09-02 19:51:33,466 - INFO - Reading kraken file for case: k23\n",
      "2025-09-02 19:51:43,367 - INFO - Number of reads for case: k23 is: 86202\n",
      "2025-09-02 19:51:43,369 - INFO - Reading kraken file for case: k25\n",
      "2025-09-02 19:51:48,539 - INFO - Number of reads for case: k25 is: 86202\n",
      "2025-09-02 19:51:48,540 - INFO - Reading kraken file for case: k27\n",
      "2025-09-02 19:51:52,340 - INFO - Number of reads for case: k27 is: 86202\n",
      "2025-09-02 19:51:52,341 - INFO - Reading kraken file for case: k29\n",
      "2025-09-02 19:52:24,795 - INFO - Number of reads for case: k29 is: 86202\n",
      "2025-09-02 19:52:24,796 - INFO - Reading kraken file for case: k31\n",
      "2025-09-02 19:52:27,408 - INFO - Number of reads for case: k31 is: 86202\n",
      "2025-09-02 19:52:27,570 - INFO - Number of reads in the kraken kmers: 7\n",
      "2025-09-02 19:52:27,570 - INFO - Getting the tax depth\n",
      "2025-09-02 19:52:27,571 - DEBUG - Getting the tax depth\n",
      "2025-09-02 19:52:35,032 - DEBUG - Number of reads in read_tax_depth: 7 86202\n",
      "2025-09-02 19:52:35,037 - DEBUG - Counter of read_tax_depth: Counter({10: 26233, 11: 22761, 0: 16262, 12: 8057, 9: 5456, 13: 2224, 8: 1772, 7: 1086, 6: 950, 1: 603, 14: 290, 5: 213, 3: 131, 4: 130, 32: 18, 2: 10, 15: 4, 16: 1, 22: 1})\n"
     ]
    }
   ],
   "source": [
    "logging.info(\"Reading the kraken kmers for these cases\")\n",
    "read_names_list, kraken_kmers_cases = _utils_kraken.read_kraken_all(cases_classify_intersect, kraken_output_folder)\n",
    "logging.info(\"Number of reads in the kraken kmers: \"+str(len(kraken_kmers_cases)))\n",
    "logging.info(\"Getting the tax depth\")\n",
    "read_tax_depth = _utils_kraken.get_tax_depth(kraken_kmers_cases, info,parents)\n"
   ]
  },
  {
   "cell_type": "code",
   "execution_count": null,
   "id": "f056ec9d",
   "metadata": {},
   "outputs": [],
   "source": []
  },
  {
   "cell_type": "code",
   "execution_count": 75,
   "id": "7136becb",
   "metadata": {},
   "outputs": [
    {
     "name": "stderr",
     "output_type": "stream",
     "text": [
      "2025-09-02 21:27:25,275 - INFO - Getting the features\n",
      "2025-09-02 21:27:25,277 - DEBUG - feature_names are : ['mean_all', 'mean_nonzero', 'max', 'sum', 'mean_exc_tax', 'mean_all/rlen', 'mean_nonzero/rlen', 'max/rlen', 'sum/rlen', 'mean_exc_tax/rlen', 'depth_reported_tax', 'Avg_kmer_consecutive', 'WAvg_kmer_consecutive', 'kmer_reported_tax', 'kmer_tax_above', 'kmer_tax_below', 'kmer_tax/rlen', 'kmer_tax_above/rlen', 'kmer_tax_below/rlen', 'kmer_othertax', 'kmer_othertax_above', 'kmer_othertax_below', 'kmer_othertax/rlen', 'kmer_othertax_above/rlen', 'kmer_othertax_below/rlen', 'diff#kmers_halfRead', 'rlen']\n",
      "2025-09-02 21:27:25,277 - DEBUG - Extracting features for case: k19\n",
      "2025-09-02 21:27:25,278 - DEBUG - Extracting features for read idx: 0  out of 1000\n",
      "2025-09-02 21:27:33,404 - DEBUG - Extracting features for case: k21\n",
      "2025-09-02 21:27:33,404 - DEBUG - Extracting features for read idx: 0  out of 1000\n",
      "2025-09-02 21:27:36,172 - DEBUG - Extracting features for case: k23\n",
      "2025-09-02 21:27:36,172 - DEBUG - Extracting features for read idx: 0  out of 1000\n",
      "2025-09-02 21:27:36,922 - DEBUG - Extracting features for case: k25\n",
      "2025-09-02 21:27:36,923 - DEBUG - Extracting features for read idx: 0  out of 1000\n",
      "2025-09-02 21:27:37,235 - DEBUG - Extracting features for case: k27\n",
      "2025-09-02 21:27:37,235 - DEBUG - Extracting features for read idx: 0  out of 1000\n",
      "2025-09-02 21:27:37,456 - DEBUG - Extracting features for case: k29\n",
      "2025-09-02 21:27:37,457 - DEBUG - Extracting features for read idx: 0  out of 1000\n",
      "2025-09-02 21:27:37,654 - DEBUG - Extracting features for case: k31\n",
      "2025-09-02 21:27:37,655 - DEBUG - Extracting features for read idx: 0  out of 1000\n",
      "2025-09-02 21:27:37,833 - DEBUG - number of kmer sizes 7 number of reads 1000 number of features 27\n",
      "2025-09-02 21:27:37,833 - DEBUG - number of reads not found in tax2depth 0 a few examples: []\n",
      "2025-09-02 21:27:37,834 - INFO - Cases in features: dict_keys(['k19', 'k21', 'k23', 'k25', 'k27', 'k29', 'k31'])\n",
      "2025-09-02 21:27:37,835 - INFO - Applying the model\n"
     ]
    }
   ],
   "source": [
    "read_names_list2=list(read_names_list)[:1000]\n",
    "logging.info(\"Getting the features\")\n",
    "features_cases, feature_names = _utils.get_features_all(read_names_list2, tax2path, kraken_kmers_cases, read_tax_depth, tax2depth, info, parents)\n",
    "logging.info(\"Cases in features: \"+str(features_cases.keys()))\n",
    "logging.info(\"Applying the model\")\n"
   ]
  },
  {
   "cell_type": "code",
   "execution_count": 56,
   "id": "4f7cf479",
   "metadata": {},
   "outputs": [
    {
     "name": "stderr",
     "output_type": "stream",
     "text": [
      "[Parallel(n_jobs=20)]: Using backend ThreadingBackend with 20 concurrent workers.\n"
     ]
    },
    {
     "name": "stderr",
     "output_type": "stream",
     "text": [
      "[Parallel(n_jobs=20)]: Done  10 tasks      | elapsed:    0.0s\n",
      "[Parallel(n_jobs=20)]: Done 160 tasks      | elapsed:    0.1s\n",
      "[Parallel(n_jobs=20)]: Done 410 tasks      | elapsed:    0.2s\n",
      "[Parallel(n_jobs=20)]: Done 760 tasks      | elapsed:    0.3s\n",
      "[Parallel(n_jobs=20)]: Done 1000 out of 1000 | elapsed:    0.3s finished\n",
      "2025-09-02 21:03:01,227 - DEBUG - X_input.shape (1000, 27) y_pred.shape (1000,)\n",
      "[Parallel(n_jobs=20)]: Using backend ThreadingBackend with 20 concurrent workers.\n",
      "[Parallel(n_jobs=20)]: Done  10 tasks      | elapsed:    0.0s\n",
      "[Parallel(n_jobs=20)]: Done 160 tasks      | elapsed:    0.1s\n",
      "[Parallel(n_jobs=20)]: Done 410 tasks      | elapsed:    0.1s\n",
      "[Parallel(n_jobs=20)]: Done 760 tasks      | elapsed:    0.3s\n",
      "[Parallel(n_jobs=20)]: Done 1000 out of 1000 | elapsed:    0.3s finished\n",
      "2025-09-02 21:03:01,580 - DEBUG - X_input.shape (1000, 27) y_pred.shape (1000,)\n",
      "[Parallel(n_jobs=20)]: Using backend ThreadingBackend with 20 concurrent workers.\n",
      "[Parallel(n_jobs=20)]: Done  10 tasks      | elapsed:    0.0s\n",
      "[Parallel(n_jobs=20)]: Done 160 tasks      | elapsed:    0.1s\n",
      "[Parallel(n_jobs=20)]: Done 410 tasks      | elapsed:    0.1s\n",
      "[Parallel(n_jobs=20)]: Done 760 tasks      | elapsed:    0.3s\n",
      "[Parallel(n_jobs=20)]: Done 1000 out of 1000 | elapsed:    0.3s finished\n",
      "2025-09-02 21:03:01,930 - DEBUG - X_input.shape (1000, 27) y_pred.shape (1000,)\n",
      "[Parallel(n_jobs=20)]: Using backend ThreadingBackend with 20 concurrent workers.\n",
      "[Parallel(n_jobs=20)]: Done  10 tasks      | elapsed:    0.0s\n",
      "[Parallel(n_jobs=20)]: Done 160 tasks      | elapsed:    0.1s\n",
      "[Parallel(n_jobs=20)]: Done 410 tasks      | elapsed:    0.1s\n",
      "[Parallel(n_jobs=20)]: Done 760 tasks      | elapsed:    0.3s\n",
      "[Parallel(n_jobs=20)]: Done 1000 out of 1000 | elapsed:    0.3s finished\n",
      "2025-09-02 21:03:02,278 - DEBUG - X_input.shape (1000, 27) y_pred.shape (1000,)\n",
      "[Parallel(n_jobs=20)]: Using backend ThreadingBackend with 20 concurrent workers.\n",
      "[Parallel(n_jobs=20)]: Done  10 tasks      | elapsed:    0.0s\n",
      "[Parallel(n_jobs=20)]: Done 160 tasks      | elapsed:    0.1s\n",
      "[Parallel(n_jobs=20)]: Done 410 tasks      | elapsed:    0.1s\n",
      "[Parallel(n_jobs=20)]: Done 760 tasks      | elapsed:    0.3s\n",
      "[Parallel(n_jobs=20)]: Done 1000 out of 1000 | elapsed:    0.3s finished\n",
      "2025-09-02 21:03:02,620 - DEBUG - X_input.shape (1000, 27) y_pred.shape (1000,)\n",
      "[Parallel(n_jobs=20)]: Using backend ThreadingBackend with 20 concurrent workers.\n",
      "[Parallel(n_jobs=20)]: Done  10 tasks      | elapsed:    0.0s\n",
      "[Parallel(n_jobs=20)]: Done 160 tasks      | elapsed:    0.1s\n",
      "[Parallel(n_jobs=20)]: Done 410 tasks      | elapsed:    0.1s\n",
      "[Parallel(n_jobs=20)]: Done 760 tasks      | elapsed:    0.3s\n",
      "[Parallel(n_jobs=20)]: Done 1000 out of 1000 | elapsed:    0.3s finished\n",
      "2025-09-02 21:03:02,962 - DEBUG - X_input.shape (1000, 27) y_pred.shape (1000,)\n",
      "[Parallel(n_jobs=20)]: Using backend ThreadingBackend with 20 concurrent workers.\n",
      "[Parallel(n_jobs=20)]: Done  10 tasks      | elapsed:    0.0s\n",
      "[Parallel(n_jobs=20)]: Done 160 tasks      | elapsed:    0.1s\n",
      "[Parallel(n_jobs=20)]: Done 410 tasks      | elapsed:    0.1s\n",
      "[Parallel(n_jobs=20)]: Done 760 tasks      | elapsed:    0.3s\n",
      "[Parallel(n_jobs=20)]: Done 1000 out of 1000 | elapsed:    0.3s finished\n",
      "2025-09-02 21:03:03,305 - DEBUG - X_input.shape (1000, 27) y_pred.shape (1000,)\n",
      "2025-09-02 21:03:03,308 - INFO - Number of reads in the read_k_prob: 1000\n",
      "2025-09-02 21:03:03,309 - INFO - Getting the best tax\n",
      "2025-09-02 21:03:03,321 - DEBUG - ** best k: Counter({'k19': 234, 'k21': 230, -1: 157, 'k31': 109, 'k23': 104, 'k25': 70, 'k27': 51, 'k29': 45})\n",
      "2025-09-02 21:03:03,322 - INFO - Writing the estimated tax\n"
     ]
    }
   ],
   "source": [
    "\n",
    "read_k_prob= _classifier.apply_RF_model(cases_classify_intersect, features_cases,read_names_list2,loaded_regression_dic)\n",
    "logging.info(\"Number of reads in the read_k_prob: \"+str(len(read_k_prob)))  \n",
    "\n",
    "logging.info(\"Getting the best tax\")\n",
    "best_k_dic, estimated_tax_dict = _classifier.get_best_tax(read_k_prob,read_names_list2,kraken_kmers_cases,thr_minprob=0.5) \n",
    "logging.info(\"Writing the estimated tax\")"
   ]
  },
  {
   "cell_type": "code",
   "execution_count": null,
   "id": "434a971b",
   "metadata": {},
   "outputs": [],
   "source": []
  },
  {
   "cell_type": "code",
   "execution_count": 57,
   "id": "371b6d9a",
   "metadata": {},
   "outputs": [
    {
     "name": "stderr",
     "output_type": "stream",
     "text": [
      "2025-09-02 21:03:03,332 - INFO - Reading the truth file: ../../../changek/simulatation/classification_pbsim/max15/true_tax_max15.csv\n",
      "2025-09-02 21:03:05,850 - INFO - Number of reads in the truth file: 86202\n"
     ]
    }
   ],
   "source": [
    "truth_file= \"../../../changek/simulatation/classification_pbsim/max15/true_tax_max15.csv\"\n",
    "logging.info(\"Reading the truth file: \"+truth_file)\n",
    "dic_tax_truth = _utils_kraken.read_truth_file(truth_file)\n",
    "logging.info(\"Number of reads in the truth file: \"+str(len(dic_tax_truth)))\n"
   ]
  },
  {
   "cell_type": "code",
   "execution_count": 58,
   "id": "42c16c40",
   "metadata": {},
   "outputs": [],
   "source": [
    "\n",
    "\n",
    "\n",
    "def calculate_tp_fp(mode,input_dic,dic_tax_truth,info,tree_df,parents,tax_level,tax_index):\n",
    "\n",
    "    \"\"\"\n",
    "    input_dic:\n",
    "        raw_kraken: kraken_kmers_case     mode:\"raw_kraken\"\n",
    "        predicted_tax: predicted_tax_dic  mode:\"predicted_tax\"\n",
    "    \"\"\"\n",
    "    read_tpfp_dic={\"TP\":set(),\"FP-level-notindex\":set(), 'FP-higher-notindex':set(),\"FP-level-index\":set(), 'FP-higher-index':set(),\n",
    "               'inconsistent-tool':set(), 'TN':set(),\n",
    "               'FN':set(),'VP':set(), \"truth-level\":set(), \"no-truth-level\":set(),\"total_unclassified\":set(),'notruth':[]} #  at the level ,'taxNotfoundintool':[]\n",
    "    \n",
    "    tid_true_taxlevel_dic={}\n",
    "    tax_true_all = set(dic_tax_truth.values())\n",
    "    for tid_true in tax_true_all:\n",
    "        tid_true_taxlevel_dic[tid_true] = int(_utils_tree.find_tax_level(info,tree_df,parents, tid_true, tax_level))\n",
    "    tax_predicted_level_dic={}\n",
    "    tax_predicted_raw=set()    \n",
    "    for read_name, kraken_read_info in input_dic.items():\n",
    "        if mode==\"raw_kraken\":\n",
    "            tax_predicted_raw.add(kraken_read_info[0])\n",
    "        elif mode==\"predicted_tax\":\n",
    "            tax_predicted_raw.add(kraken_read_info)\n",
    "    tax_predicted_raw.add(2)\n",
    "    for tax_predicted in tax_predicted_raw:\n",
    "        tax_predicted_level_dic[tax_predicted] = int(_utils_tree.find_tax_level(info,tree_df,parents, tax_predicted, tax_level))\n",
    "    tax_predicted_list_tocheck=[]\n",
    "    for read_name, kraken_read_info in input_dic.items():\n",
    "        if read_name not in dic_tax_truth:\n",
    "            read_tpfp_dic['notruth'].append(read_name)\n",
    "            continue\n",
    "        tax_true = dic_tax_truth[read_name]\n",
    "        if mode==\"raw_kraken\":\n",
    "            tax_predicted = kraken_read_info[0]\n",
    "        elif mode==\"predicted_tax\":\n",
    "            tax_predicted = kraken_read_info\n",
    "        else:\n",
    "            raise ValueError(\"mode not supported\")\n",
    "\n",
    "        if tax_predicted==1:\n",
    "            tax_predicted=2 # todo probably 1 has another meaning in find tax level, that's fine the level should be much deeper \n",
    "    \n",
    "        tax_true_level = tid_true_taxlevel_dic[tax_true]\n",
    "        tax_predicted_level = tax_predicted_level_dic[tax_predicted]\n",
    "    \n",
    "        if tax_predicted_level==-1 and tax_predicted!=0:\n",
    "            read_tpfp_dic['inconsistent-tool'].add(read_name)\n",
    "            # tid_tool_taxlevel==-1 we are ignoring these reads if the tax is not in the node.dump \n",
    "            # we think these cases are limited and probably happened due to different node.dump in build vs evaluation \n",
    "    \n",
    "        if tax_predicted==0 :\n",
    "            read_tpfp_dic[\"total_unclassified\"].add(read_name)\n",
    "        \n",
    "        if tax_predicted==-1 or tax_true_level < 1:\n",
    "            tax_predicted_list_tocheck.append(tax_predicted)\n",
    "        \n",
    "\n",
    "    \n",
    "        if tax_true_level ==1 or  tax_true_level==-1 or (tax_predicted_level==-1 and tax_predicted!=0): # true is not at the level, is higher than the level     or true doest not exist in info\n",
    "            #including 'inconsistent-tool'\n",
    "            read_tpfp_dic[\"no-truth-level\"].add(read_name)\n",
    "            \n",
    "        else:\n",
    "            read_tpfp_dic[\"truth-level\"].add(read_name)\n",
    "    \n",
    "        if tax_true_level >1 and tax_predicted==0:\n",
    "            if tax_true in tax_index:\n",
    "                read_tpfp_dic['FN'].add(read_name) # unclassified, among reads with true label at the level \n",
    "            else:\n",
    "                read_tpfp_dic['TN'].add(read_name) # unclassified, among reads with true label at the level \n",
    "            \n",
    "        if tax_true_level>1 and tax_predicted_level==tax_true_level :\n",
    "            read_tpfp_dic['TP'].add(read_name) # correct\n",
    "    \n",
    "        if tax_true_level>1 and tax_predicted>1 and tax_predicted_level==1 :  # tool labled at higher than taxlevel \n",
    "            tool_level= tree_df[4][info[tax_predicted]]\n",
    "            tax_true_toollevel = _utils_tree.find_tax_level(info,tree_df,parents, tax_true, tool_level)\n",
    "            if tax_true_toollevel == tax_predicted: # at the tool level is correct \n",
    "                read_tpfp_dic['VP'].add(read_name) # vague positive, one deeper lvel (ancestror)  match    \n",
    "            if tax_true_toollevel != tax_predicted:\n",
    "                if tax_true in tax_index:\n",
    "                    read_tpfp_dic['FP-higher-index'].add(read_name) # tool labeld at higher level and worng (not a VP) \n",
    "                else:\n",
    "                    read_tpfp_dic['FP-higher-notindex'].add(read_name) # tool labeld at higher level and worng (not a VP) \n",
    "    \n",
    "        if tax_true_level > 1 and tax_predicted_level>1 and  tax_predicted_level != tax_true_level :\n",
    "            if tax_true in tax_index:\n",
    "                read_tpfp_dic['FP-level-index'].add(read_name) # tool labeled at the tax level (or lower) and wrong \n",
    "            else:\n",
    "                read_tpfp_dic['FP-level-notindex'].add(read_name) # tool labeled at the tax level (or lower) and wrong             \n",
    "    if tax_predicted_list_tocheck:\n",
    "        logging.debug(\"to check tax_predicted==-1 or tax_true_level < 1: \"+str(len(tax_predicted_list_tocheck))+\" a few of them are: \"+str(tax_predicted_list_tocheck[:20]))        \n",
    "    return read_tpfp_dic\n",
    "\n",
    "\n",
    "def calculate_true_k(kraken_kmers_cases,dic_tax_truth,info,tree_df,parents,tax_level,tax_index,read_names_list):\n",
    "    tp_cases_dic={}\n",
    "    for case, kraken_kmers in kraken_kmers_cases.items():\n",
    "        logging.debug('finding true k for case '+case)\n",
    "        #merged  = _utils_kraken.read_kraken_classification(cases, truth_file, classification_folder )    \n",
    "        \n",
    "        \n",
    "        read_tpfp_dic_case= calculate_tp_fp(\"raw_kraken\",kraken_kmers,dic_tax_truth,info,tree_df,parents,tax_level,tax_index)\n",
    "        logging.debug(\"Number of reads in the case TP : \"+str(len(read_tpfp_dic_case['TP'])))\n",
    "        if len(read_tpfp_dic_case['notruth']):\n",
    "            logging.debug(\"Number of reads in the case not truth level : \"+str(len(read_tpfp_dic_case['notruth']))+\" a few examples: \"+str(list(read_tpfp_dic_case['notruth'])[:10]))\n",
    "        tp_cases_dic[case]=read_tpfp_dic_case['TP']\n",
    "\n",
    "    cases=list(kraken_kmers_cases.keys())\n",
    "    reads_tp_cases={}\n",
    "    for read_name in read_names_list:\n",
    "        reads_tp_cases[read_name]=set()\n",
    "        for case_k, case in  enumerate(cases): \n",
    "            k = int(case[1:3])\n",
    "            if read_name in tp_cases_dic[case]:\n",
    "                reads_tp_cases[read_name].add(k)\n",
    "    logging.debug(\"Number of reads in the case TP : \"+str(len(reads_tp_cases)))\n",
    "    logging.debug(\"Number of kmer sizes in the TP for read\"+read_name+\" : \"+str(len(reads_tp_cases[read_name])))\n",
    "    return reads_tp_cases\n"
   ]
  },
  {
   "cell_type": "code",
   "execution_count": null,
   "id": "49502340",
   "metadata": {},
   "outputs": [],
   "source": []
  },
  {
   "cell_type": "code",
   "execution_count": 59,
   "id": "a9842950",
   "metadata": {},
   "outputs": [
    {
     "name": "stderr",
     "output_type": "stream",
     "text": [
      "2025-09-02 21:03:05,975 - DEBUG - finding true k for case k19\n",
      "2025-09-02 21:03:06,887 - DEBUG - to check tax_predicted==-1 or tax_true_level < 1: 8 a few of them are: [548, 196821, 584, 562, 869729, 1134687, 1853130, 196821]\n",
      "2025-09-02 21:03:06,891 - DEBUG - Number of reads in the case TP : 55825\n",
      "2025-09-02 21:03:06,892 - DEBUG - finding true k for case k21\n",
      "2025-09-02 21:03:07,641 - DEBUG - to check tax_predicted==-1 or tax_true_level < 1: 8 a few of them are: [9606, 1547283, 584, 562, 1446707, 573, 240521, 2795216]\n",
      "2025-09-02 21:03:07,651 - DEBUG - Number of reads in the case TP : 63582\n",
      "2025-09-02 21:03:07,652 - DEBUG - finding true k for case k23\n",
      "2025-09-02 21:03:08,324 - DEBUG - to check tax_predicted==-1 or tax_true_level < 1: 8 a few of them are: [2, 186817, 584, 562, 1446707, 573, 2613769, 303]\n",
      "2025-09-02 21:03:08,333 - DEBUG - Number of reads in the case TP : 63767\n",
      "2025-09-02 21:03:08,333 - DEBUG - finding true k for case k25\n",
      "2025-09-02 21:03:08,982 - DEBUG - to check tax_predicted==-1 or tax_true_level < 1: 8 a few of them are: [2921447, 186817, 0, 562, 1446707, 573, 2613769, 1981173]\n",
      "2025-09-02 21:03:08,990 - DEBUG - Number of reads in the case TP : 62370\n",
      "2025-09-02 21:03:08,990 - DEBUG - finding true k for case k27\n",
      "2025-09-02 21:03:09,627 - DEBUG - to check tax_predicted==-1 or tax_true_level < 1: 8 a few of them are: [2921447, 2850441, 0, 562, 1446707, 573, 379, 1981173]\n",
      "2025-09-02 21:03:09,635 - DEBUG - Number of reads in the case TP : 60462\n",
      "2025-09-02 21:03:09,636 - DEBUG - finding true k for case k29\n",
      "2025-09-02 21:03:10,266 - DEBUG - to check tax_predicted==-1 or tax_true_level < 1: 8 a few of them are: [2, 2850441, 0, 562, 1446707, 1134687, 379, 379]\n",
      "2025-09-02 21:03:10,274 - DEBUG - Number of reads in the case TP : 58389\n",
      "2025-09-02 21:03:10,275 - DEBUG - finding true k for case k31\n",
      "2025-09-02 21:03:10,915 - DEBUG - to check tax_predicted==-1 or tax_true_level < 1: 8 a few of them are: [2, 2, 0, 562, 1446707, 1134687, 379, 379]\n",
      "2025-09-02 21:03:10,923 - DEBUG - Number of reads in the case TP : 56316\n",
      "2025-09-02 21:03:11,271 - DEBUG - Number of reads in the case TP : 86202\n",
      "2025-09-02 21:03:11,271 - DEBUG - Number of kmer sizes in the TP for readNZ_CP114606.1__1_1 : 7\n",
      "2025-09-02 21:03:11,290 - DEBUG - finding true k for case k19\n",
      "2025-09-02 21:03:12,374 - DEBUG - to check tax_predicted==-1 or tax_true_level < 1: 8 a few of them are: [548, 196821, 584, 562, 869729, 1134687, 1853130, 196821]\n",
      "2025-09-02 21:03:12,378 - DEBUG - Number of reads in the case TP : 64179\n",
      "2025-09-02 21:03:12,379 - DEBUG - finding true k for case k21\n",
      "2025-09-02 21:03:13,401 - DEBUG - to check tax_predicted==-1 or tax_true_level < 1: 8 a few of them are: [9606, 1547283, 584, 562, 1446707, 573, 240521, 2795216]\n",
      "2025-09-02 21:03:13,411 - DEBUG - Number of reads in the case TP : 71748\n",
      "2025-09-02 21:03:13,411 - DEBUG - finding true k for case k23\n",
      "2025-09-02 21:03:14,370 - DEBUG - to check tax_predicted==-1 or tax_true_level < 1: 8 a few of them are: [2, 186817, 584, 562, 1446707, 573, 2613769, 303]\n",
      "2025-09-02 21:03:14,379 - DEBUG - Number of reads in the case TP : 72038\n",
      "2025-09-02 21:03:14,379 - DEBUG - finding true k for case k25\n",
      "2025-09-02 21:03:15,309 - DEBUG - to check tax_predicted==-1 or tax_true_level < 1: 8 a few of them are: [2921447, 186817, 0, 562, 1446707, 573, 2613769, 1981173]\n",
      "2025-09-02 21:03:15,317 - DEBUG - Number of reads in the case TP : 70744\n",
      "2025-09-02 21:03:15,317 - DEBUG - finding true k for case k27\n",
      "2025-09-02 21:03:16,241 - DEBUG - to check tax_predicted==-1 or tax_true_level < 1: 8 a few of them are: [2921447, 2850441, 0, 562, 1446707, 573, 379, 1981173]\n",
      "2025-09-02 21:03:16,250 - DEBUG - Number of reads in the case TP : 69010\n",
      "2025-09-02 21:03:16,251 - DEBUG - finding true k for case k29\n",
      "2025-09-02 21:03:17,154 - DEBUG - to check tax_predicted==-1 or tax_true_level < 1: 8 a few of them are: [2, 2850441, 0, 562, 1446707, 1134687, 379, 379]\n",
      "2025-09-02 21:03:17,161 - DEBUG - Number of reads in the case TP : 66989\n",
      "2025-09-02 21:03:17,162 - DEBUG - finding true k for case k31\n",
      "2025-09-02 21:03:18,053 - DEBUG - to check tax_predicted==-1 or tax_true_level < 1: 8 a few of them are: [2, 2, 0, 562, 1446707, 1134687, 379, 379]\n",
      "2025-09-02 21:03:18,061 - DEBUG - Number of reads in the case TP : 64914\n",
      "2025-09-02 21:03:18,396 - DEBUG - Number of reads in the case TP : 86202\n",
      "2025-09-02 21:03:18,397 - DEBUG - Number of kmer sizes in the TP for readNZ_CP114606.1__1_1 : 7\n",
      "2025-09-02 21:03:18,416 - DEBUG - finding true k for case k19\n",
      "2025-09-02 21:03:19,764 - DEBUG - to check tax_predicted==-1 or tax_true_level < 1: 8 a few of them are: [548, 196821, 584, 562, 869729, 1134687, 1853130, 196821]\n",
      "2025-09-02 21:03:19,768 - DEBUG - Number of reads in the case TP : 65157\n",
      "2025-09-02 21:03:19,769 - DEBUG - finding true k for case k21\n",
      "2025-09-02 21:03:21,092 - DEBUG - to check tax_predicted==-1 or tax_true_level < 1: 8 a few of them are: [9606, 1547283, 584, 562, 1446707, 573, 240521, 2795216]\n",
      "2025-09-02 21:03:21,102 - DEBUG - Number of reads in the case TP : 71720\n",
      "2025-09-02 21:03:21,103 - DEBUG - finding true k for case k23\n",
      "2025-09-02 21:03:22,366 - DEBUG - to check tax_predicted==-1 or tax_true_level < 1: 8 a few of them are: [2, 186817, 584, 562, 1446707, 573, 2613769, 303]\n",
      "2025-09-02 21:03:22,374 - DEBUG - Number of reads in the case TP : 71870\n",
      "2025-09-02 21:03:22,375 - DEBUG - finding true k for case k25\n",
      "2025-09-02 21:03:23,608 - DEBUG - to check tax_predicted==-1 or tax_true_level < 1: 8 a few of them are: [2921447, 186817, 0, 562, 1446707, 573, 2613769, 1981173]\n",
      "2025-09-02 21:03:23,616 - DEBUG - Number of reads in the case TP : 70548\n",
      "2025-09-02 21:03:23,617 - DEBUG - finding true k for case k27\n",
      "2025-09-02 21:03:24,819 - DEBUG - to check tax_predicted==-1 or tax_true_level < 1: 8 a few of them are: [2921447, 2850441, 0, 562, 1446707, 573, 379, 1981173]\n",
      "2025-09-02 21:03:24,826 - DEBUG - Number of reads in the case TP : 68763\n",
      "2025-09-02 21:03:24,827 - DEBUG - finding true k for case k29\n",
      "2025-09-02 21:03:26,017 - DEBUG - to check tax_predicted==-1 or tax_true_level < 1: 8 a few of them are: [2, 2850441, 0, 562, 1446707, 1134687, 379, 379]\n",
      "2025-09-02 21:03:26,025 - DEBUG - Number of reads in the case TP : 66666\n",
      "2025-09-02 21:03:26,026 - DEBUG - finding true k for case k31\n",
      "2025-09-02 21:03:27,205 - DEBUG - to check tax_predicted==-1 or tax_true_level < 1: 8 a few of them are: [2, 2, 0, 562, 1446707, 1134687, 379, 379]\n",
      "2025-09-02 21:03:27,214 - DEBUG - Number of reads in the case TP : 64548\n",
      "2025-09-02 21:03:27,583 - DEBUG - Number of reads in the case TP : 86202\n",
      "2025-09-02 21:03:27,584 - DEBUG - Number of kmer sizes in the TP for readNZ_CP114606.1__1_1 : 7\n",
      "2025-09-02 21:03:27,603 - DEBUG - finding true k for case k19\n",
      "2025-09-02 21:03:29,189 - DEBUG - to check tax_predicted==-1 or tax_true_level < 1: 8 a few of them are: [548, 196821, 584, 562, 869729, 1134687, 1853130, 196821]\n",
      "2025-09-02 21:03:29,193 - DEBUG - Number of reads in the case TP : 64600\n",
      "2025-09-02 21:03:29,193 - DEBUG - finding true k for case k21\n",
      "2025-09-02 21:03:30,769 - DEBUG - to check tax_predicted==-1 or tax_true_level < 1: 8 a few of them are: [9606, 1547283, 584, 562, 1446707, 573, 240521, 2795216]\n",
      "2025-09-02 21:03:30,777 - DEBUG - Number of reads in the case TP : 70445\n",
      "2025-09-02 21:03:30,778 - DEBUG - finding true k for case k23\n",
      "2025-09-02 21:03:32,311 - DEBUG - to check tax_predicted==-1 or tax_true_level < 1: 8 a few of them are: [2, 186817, 584, 562, 1446707, 573, 2613769, 303]\n",
      "2025-09-02 21:03:32,318 - DEBUG - Number of reads in the case TP : 70547\n",
      "2025-09-02 21:03:32,319 - DEBUG - finding true k for case k25\n",
      "2025-09-02 21:03:33,827 - DEBUG - to check tax_predicted==-1 or tax_true_level < 1: 8 a few of them are: [2921447, 186817, 0, 562, 1446707, 573, 2613769, 1981173]\n",
      "2025-09-02 21:03:33,835 - DEBUG - Number of reads in the case TP : 69277\n",
      "2025-09-02 21:03:33,835 - DEBUG - finding true k for case k27\n",
      "2025-09-02 21:03:35,297 - DEBUG - to check tax_predicted==-1 or tax_true_level < 1: 8 a few of them are: [2921447, 2850441, 0, 562, 1446707, 573, 379, 1981173]\n",
      "2025-09-02 21:03:35,304 - DEBUG - Number of reads in the case TP : 67538\n",
      "2025-09-02 21:03:35,305 - DEBUG - finding true k for case k29\n",
      "2025-09-02 21:03:36,750 - DEBUG - to check tax_predicted==-1 or tax_true_level < 1: 8 a few of them are: [2, 2850441, 0, 562, 1446707, 1134687, 379, 379]\n",
      "2025-09-02 21:03:36,757 - DEBUG - Number of reads in the case TP : 65504\n",
      "2025-09-02 21:03:36,757 - DEBUG - finding true k for case k31\n",
      "2025-09-02 21:03:38,175 - DEBUG - to check tax_predicted==-1 or tax_true_level < 1: 8 a few of them are: [2, 2, 0, 562, 1446707, 1134687, 379, 379]\n",
      "2025-09-02 21:03:38,182 - DEBUG - Number of reads in the case TP : 63434\n",
      "2025-09-02 21:03:38,538 - DEBUG - Number of reads in the case TP : 86202\n",
      "2025-09-02 21:03:38,539 - DEBUG - Number of kmer sizes in the TP for readNZ_CP114606.1__1_1 : 7\n",
      "2025-09-02 21:03:38,557 - DEBUG - finding true k for case k19\n",
      "2025-09-02 21:03:40,201 - DEBUG - to check tax_predicted==-1 or tax_true_level < 1: 8 a few of them are: [548, 196821, 584, 562, 869729, 1134687, 1853130, 196821]\n",
      "2025-09-02 21:03:40,206 - DEBUG - Number of reads in the case TP : 68564\n",
      "2025-09-02 21:03:40,207 - DEBUG - finding true k for case k21\n",
      "2025-09-02 21:03:41,876 - DEBUG - to check tax_predicted==-1 or tax_true_level < 1: 8 a few of them are: [9606, 1547283, 584, 562, 1446707, 573, 240521, 2795216]\n",
      "2025-09-02 21:03:41,886 - DEBUG - Number of reads in the case TP : 75306\n",
      "2025-09-02 21:03:41,887 - DEBUG - finding true k for case k23\n",
      "2025-09-02 21:03:43,476 - DEBUG - to check tax_predicted==-1 or tax_true_level < 1: 8 a few of them are: [2, 186817, 584, 562, 1446707, 573, 2613769, 303]\n",
      "2025-09-02 21:03:43,489 - DEBUG - Number of reads in the case TP : 75222\n",
      "2025-09-02 21:03:43,490 - DEBUG - finding true k for case k25\n",
      "2025-09-02 21:03:45,041 - DEBUG - to check tax_predicted==-1 or tax_true_level < 1: 8 a few of them are: [2921447, 186817, 0, 562, 1446707, 573, 2613769, 1981173]\n",
      "2025-09-02 21:03:45,048 - DEBUG - Number of reads in the case TP : 73728\n",
      "2025-09-02 21:03:45,049 - DEBUG - finding true k for case k27\n",
      "2025-09-02 21:03:46,574 - DEBUG - to check tax_predicted==-1 or tax_true_level < 1: 8 a few of them are: [2921447, 2850441, 0, 562, 1446707, 573, 379, 1981173]\n",
      "2025-09-02 21:03:46,582 - DEBUG - Number of reads in the case TP : 71801\n",
      "2025-09-02 21:03:46,582 - DEBUG - finding true k for case k29\n",
      "2025-09-02 21:03:48,092 - DEBUG - to check tax_predicted==-1 or tax_true_level < 1: 8 a few of them are: [2, 2850441, 0, 562, 1446707, 1134687, 379, 379]\n",
      "2025-09-02 21:03:48,100 - DEBUG - Number of reads in the case TP : 69621\n",
      "2025-09-02 21:03:48,101 - DEBUG - finding true k for case k31\n",
      "2025-09-02 21:03:49,585 - DEBUG - to check tax_predicted==-1 or tax_true_level < 1: 8 a few of them are: [2, 2, 0, 562, 1446707, 1134687, 379, 379]\n",
      "2025-09-02 21:03:49,593 - DEBUG - Number of reads in the case TP : 67400\n",
      "2025-09-02 21:03:49,961 - DEBUG - Number of reads in the case TP : 86202\n",
      "2025-09-02 21:03:49,961 - DEBUG - Number of kmer sizes in the TP for readNZ_CP114606.1__1_1 : 7\n",
      "2025-09-02 21:03:49,981 - INFO - cleaning reported tax for all kmer sizes\n"
     ]
    }
   ],
   "source": [
    "reads_tp_cases_all={}\n",
    "for tax_level in ['species','genus','family','order','class']:\n",
    "    reads_tp_cases_all[tax_level] = calculate_true_k(kraken_kmers_cases,dic_tax_truth,info,tree_df,parents,tax_level,tax_index,read_names_list)\n",
    "\n",
    "logging.info(\"cleaning reported tax for all kmer sizes\")\n"
   ]
  },
  {
   "cell_type": "code",
   "execution_count": 60,
   "id": "26f01025",
   "metadata": {},
   "outputs": [],
   "source": [
    "\n",
    "\n",
    "kraken_reportedtax_cases=dict()\n",
    "kraken_reportedtax_cases['RF']=estimated_tax_dict\n",
    "for case in cases_classify_intersect:\n",
    "    kraken_reportedtax_cases[case]={}\n",
    "    for read_name, kraken_info in kraken_kmers_cases[case].items():\n",
    "        reported_tax = kraken_info[0]\n",
    "        kraken_reportedtax_cases[case][read_name]=reported_tax\n",
    "\n"
   ]
  },
  {
   "cell_type": "code",
   "execution_count": 61,
   "id": "ce151bd1",
   "metadata": {},
   "outputs": [],
   "source": [
    "import random\n",
    "kraken_reportedtax_cases[\"Random\"]={} \n",
    "for read_name in read_names_list2:\n",
    "    case_random = cases_classify_intersect[random.randint(0, len(cases_classify_intersect)-1)]\n",
    "    kraken_reportedtax_cases[\"Random\"][read_name]  = kraken_reportedtax_cases[case_random][read_name]      \t     \n",
    "\n",
    "kraken_reportedtax_cases[ \"Oracle\"]={}\n",
    "for tax_level in ['species','genus','family','order','class']:\n",
    "    kraken_reportedtax_cases[ \"Oracle\"][tax_level]={}\n",
    "    for read_name in read_names_list:\n",
    "        true_k_set= reads_tp_cases_all[tax_level][read_name]\n",
    "        found_true_tax= 0\n",
    "        if true_k_set:\n",
    "            case_true_k = 'k'+str(list(true_k_set)[0])\n",
    "            found_true_tax = kraken_reportedtax_cases[case_true_k][read_name]\n",
    "        kraken_reportedtax_cases[ \"Oracle\"][tax_level][read_name]  = found_true_tax           \t     \n"
   ]
  },
  {
   "cell_type": "code",
   "execution_count": null,
   "id": "c0c95c07",
   "metadata": {},
   "outputs": [],
   "source": []
  },
  {
   "cell_type": "code",
   "execution_count": 62,
   "id": "76cedfdb",
   "metadata": {},
   "outputs": [
    {
     "name": "stderr",
     "output_type": "stream",
     "text": [
      "2025-09-02 21:03:50,879 - INFO - Calculating the tp fp\n",
      "2025-09-02 21:03:50,881 - INFO - Calculating the tp fp for case: k19\n"
     ]
    },
    {
     "name": "stdout",
     "output_type": "stream",
     "text": [
      "case\tF1\tprecision\trecall\tTP\tFP\tVP\tFN\n",
      "level: species\n"
     ]
    },
    {
     "name": "stderr",
     "output_type": "stream",
     "text": [
      "2025-09-02 21:03:52,348 - INFO - Number of reads in the TP: 659\n",
      "2025-09-02 21:03:52,349 - INFO - Calculating the tp fp for case: k21\n"
     ]
    },
    {
     "name": "stdout",
     "output_type": "stream",
     "text": [
      "k19 \t 0.6883 0.7202 0.659 659 256 84 1\n"
     ]
    },
    {
     "name": "stderr",
     "output_type": "stream",
     "text": [
      "2025-09-02 21:03:53,781 - INFO - Number of reads in the TP: 755\n",
      "2025-09-02 21:03:53,782 - INFO - Calculating the tp fp for case: k23\n"
     ]
    },
    {
     "name": "stdout",
     "output_type": "stream",
     "text": [
      "k21 \t 0.7994 0.8493 0.755 755 134 96 15\n"
     ]
    },
    {
     "name": "stderr",
     "output_type": "stream",
     "text": [
      "2025-09-02 21:03:55,209 - INFO - Number of reads in the TP: 754\n",
      "2025-09-02 21:03:55,210 - INFO - Calculating the tp fp for case: k25\n"
     ]
    },
    {
     "name": "stdout",
     "output_type": "stream",
     "text": [
      "k23 \t 0.8191 0.8966 0.754 754 87 101 58\n"
     ]
    },
    {
     "name": "stderr",
     "output_type": "stream",
     "text": [
      "2025-09-02 21:03:56,629 - INFO - Number of reads in the TP: 740\n",
      "2025-09-02 21:03:56,630 - INFO - Calculating the tp fp for case: k27\n"
     ]
    },
    {
     "name": "stdout",
     "output_type": "stream",
     "text": [
      "k25 \t 0.8218 0.9238 0.74 740 61 106 93\n"
     ]
    },
    {
     "name": "stderr",
     "output_type": "stream",
     "text": [
      "2025-09-02 21:03:58,042 - INFO - Number of reads in the TP: 722\n",
      "2025-09-02 21:03:58,043 - INFO - Calculating the tp fp for case: k29\n"
     ]
    },
    {
     "name": "stdout",
     "output_type": "stream",
     "text": [
      "k27 \t 0.814 0.9328 0.722 722 52 104 122\n"
     ]
    },
    {
     "name": "stderr",
     "output_type": "stream",
     "text": [
      "2025-09-02 21:03:59,467 - INFO - Number of reads in the TP: 695\n",
      "2025-09-02 21:03:59,467 - INFO - Calculating the tp fp for case: k31\n"
     ]
    },
    {
     "name": "stdout",
     "output_type": "stream",
     "text": [
      "k29 \t 0.7989 0.9392 0.695 695 45 106 154\n"
     ]
    },
    {
     "name": "stderr",
     "output_type": "stream",
     "text": [
      "2025-09-02 21:04:00,919 - INFO - Number of reads in the TP: 664\n",
      "2025-09-02 21:04:00,920 - INFO - Calculating the tp fp for case: RF\n",
      "2025-09-02 21:04:01,123 - INFO - Number of reads in the TP: 748\n"
     ]
    },
    {
     "name": "stdout",
     "output_type": "stream",
     "text": [
      "k31 \t 0.7793 0.9432 0.664 664 40 104 192\n"
     ]
    },
    {
     "name": "stderr",
     "output_type": "stream",
     "text": [
      "2025-09-02 21:04:01,123 - INFO - Calculating the tp fp for case: Random\n",
      "2025-09-02 21:04:01,327 - INFO - Number of reads in the TP: 707\n"
     ]
    },
    {
     "name": "stdout",
     "output_type": "stream",
     "text": [
      "RF \t 0.8353 0.9456 0.748 748 43 52 157\n"
     ]
    },
    {
     "name": "stderr",
     "output_type": "stream",
     "text": [
      "2025-09-02 21:04:01,328 - INFO - Calculating the tp fp for case: Oracle\n"
     ]
    },
    {
     "name": "stdout",
     "output_type": "stream",
     "text": [
      "Random \t 0.7821 0.875 0.707 707 101 107 85\n"
     ]
    },
    {
     "name": "stderr",
     "output_type": "stream",
     "text": [
      "2025-09-02 21:04:02,837 - INFO - Number of reads in the TP: 777\n"
     ]
    },
    {
     "name": "stdout",
     "output_type": "stream",
     "text": [
      "Oracle \t 0.8745 1.0 0.777 777 0 0 223\n"
     ]
    }
   ],
   "source": [
    "# _utils_kraken\n",
    "\n",
    "logging.info(\"Calculating the tp fp\")\n",
    "\n",
    "print(\"case\\tF1\\tprecision\\trecall\\tTP\\tFP\\tVP\\tFN\")\n",
    "for level in ['species']: # ,'genus','family','order','class'\n",
    "    print(\"level: \"+level)\n",
    "    for case in list(cases_classify_intersect)+[\"RF\",\"Random\",\"Oracle\"]:\n",
    "        logging.info(\"Calculating the tp fp for case: \"+case)\n",
    "        if case=='Oracle':\n",
    "\n",
    "            dic1_ = {k: v for k, v in kraken_reportedtax_cases[case][level].items() if k in read_names_list2}\n",
    "            read_tpfp_dic = calculate_tp_fp('predicted_tax',dic1_, dic_tax_truth,info,tree_df,parents,level,tax_index)\n",
    "        else:\n",
    "            dic1_ = {k: v for k, v in kraken_reportedtax_cases[case].items() if k in read_names_list2}\n",
    "            read_tpfp_dic = calculate_tp_fp('predicted_tax',dic1_,dic_tax_truth,info,tree_df,parents,level,tax_index)\n",
    "    \n",
    "        logging.info(\"Number of reads in the TP: \"+str(len(read_tpfp_dic['TP'])))\n",
    "\n",
    "        FP=len(read_tpfp_dic['FP-level-index'])+len(read_tpfp_dic['FP-higher-index'])+len(read_tpfp_dic['FP-level-notindex'])+len(read_tpfp_dic['FP-higher-notindex'])\n",
    "        recall=len(read_tpfp_dic['TP'])/(len(read_tpfp_dic['TP']) + len(read_tpfp_dic['VP']) + len(read_tpfp_dic['FN']) +FP )\n",
    "        if len(read_tpfp_dic['TP'])!=0:\n",
    "            precision=len(read_tpfp_dic['TP'])/(len(read_tpfp_dic['TP']) + FP)\n",
    "            F1= 2* precision* recall/(precision+recall)\n",
    "        else:\n",
    "            precision=0\n",
    "            F1=0\n",
    "        print(case,'\\t',round(F1,4), round(precision,4),round(recall,4),len(read_tpfp_dic['TP']),FP,len(read_tpfp_dic['VP']),len(read_tpfp_dic['FN']))\n",
    "\n",
    "        \n",
    "                "
   ]
  },
  {
   "cell_type": "code",
   "execution_count": null,
   "id": "b39c5851",
   "metadata": {},
   "outputs": [],
   "source": []
  },
  {
   "cell_type": "code",
   "execution_count": null,
   "id": "a1988fac",
   "metadata": {},
   "outputs": [],
   "source": []
  },
  {
   "cell_type": "code",
   "execution_count": null,
   "id": "8d815791",
   "metadata": {},
   "outputs": [],
   "source": []
  },
  {
   "cell_type": "code",
   "execution_count": 41,
   "id": "7900ee70",
   "metadata": {},
   "outputs": [
    {
     "data": {
      "text/plain": [
       "0"
      ]
     },
     "execution_count": 41,
     "metadata": {},
     "output_type": "execute_result"
    }
   ],
   "source": [
    "len(dic1_)"
   ]
  },
  {
   "cell_type": "code",
   "execution_count": 63,
   "id": "1914ef11",
   "metadata": {},
   "outputs": [
    {
     "data": {
      "text/plain": [
       "43"
      ]
     },
     "execution_count": 63,
     "metadata": {},
     "output_type": "execute_result"
    }
   ],
   "source": [
    "level='species'\n",
    "case='RF'\n",
    "dic1_ = {k: v for k, v in kraken_reportedtax_cases[case].items() if k in read_names_list2}\n",
    "read_tpfp_dic = calculate_tp_fp('predicted_tax',dic1_,dic_tax_truth,info,tree_df,parents,level,tax_index)\n",
    "FP=len(read_tpfp_dic['FP-level-index'])+len(read_tpfp_dic['FP-higher-index'])+len(read_tpfp_dic['FP-level-notindex'])+len(read_tpfp_dic['FP-higher-notindex'])\n",
    "FP"
   ]
  },
  {
   "cell_type": "code",
   "execution_count": 64,
   "id": "a9125a80",
   "metadata": {},
   "outputs": [
    {
     "name": "stdout",
     "output_type": "stream",
     "text": [
      "NZ_CP077387.1__1_1 set()\n",
      "NZ_LT629768.1__1_1 set()\n",
      "NZ_CP063844.1__1_2 set()\n",
      "NZ_CP160302.1__1_2 set()\n",
      "NZ_CP019626.1__1_1 set()\n",
      "NZ_CM001889.1__1_2 set()\n",
      "NC_016639.1__1_2 set()\n",
      "NZ_CP119130.1__1_1 set()\n",
      "NZ_CP127083.1__1_1 set()\n",
      "NZ_AP022021.1__1_1 set()\n",
      "NZ_CP118677.1__1_1 set()\n",
      "NZ_PP320298.1__1_1 set()\n",
      "NZ_CP050009.1__1_2 set()\n",
      "NZ_CP022377.1__1_2 set()\n",
      "NZ_NHNB01000108.1__1_1 set()\n",
      "NZ_MN423361.1__1_1 set()\n",
      "NZ_CM002882.1__1_1 set()\n",
      "NZ_NPMK01000019.1__1_1 set()\n",
      "NZ_CP101701.1__1_1 set()\n",
      "NC_027622.1__1_1 set()\n",
      "NZ_CP020338.1__1_1 set()\n",
      "NZ_PP626394.1__1_1 set()\n",
      "NZ_CP091379.1__1_1 set()\n",
      "NC_016621.1__1_1 set()\n",
      "NZ_MN423362.1__1_1 set()\n",
      "NZ_AP018734.1__1_1 set()\n",
      "NZ_CP142091.1__1_1 set()\n",
      "NC_015469.1__1_1 set()\n",
      "NZ_CP058628.1__1_1 set()\n",
      "NZ_CP024905.1__1_2 {25, 23}\n",
      "NZ_CP004046.1__1_1 set()\n",
      "NZ_CP009094.1__1_1 set()\n",
      "NC_042068.1__1_1 set()\n",
      "NZ_CP104140.1__1_2 {19}\n",
      "NZ_CP141239.1__1_1 set()\n",
      "NZ_CP041382.1__1_2 set()\n",
      "NZ_CP014918.1__1_1 set()\n",
      "NZ_AOOE01000052.1__1_1 set()\n",
      "NZ_CP010405.1__1_1 set()\n",
      "NZ_CP100711.1__1_1 set()\n",
      "NC_009838.1__1_1 set()\n",
      "NZ_CP083590.1__1_1 {25, 27, 29, 31}\n",
      "NZ_CP113792.1__1_1 {27}\n",
      "---- FP-level-index\n",
      "---- FP-higher-index \n",
      "---- FP-level-notindex\n"
     ]
    }
   ],
   "source": [
    "\n",
    "level='species'\n",
    "case='RF'\n",
    "dic1_ = {k: v for k, v in kraken_reportedtax_cases[case].items() if k in read_names_list2}\n",
    "read_tpfp_dic = calculate_tp_fp('predicted_tax',dic1_,dic_tax_truth,info,tree_df,parents,level,tax_index)\n",
    "FP=len(read_tpfp_dic['FP-level-index'])+len(read_tpfp_dic['FP-higher-index'])+len(read_tpfp_dic['FP-level-notindex'])+len(read_tpfp_dic['FP-higher-notindex'])\n",
    "FP\n",
    "for i in read_tpfp_dic['FP-level-index']:\n",
    "    print(i, reads_tp_cases_all['species'][i])\n",
    "print(\"---- FP-level-index\")\n",
    "for i in read_tpfp_dic['FP-higher-index']:\n",
    "    print(i, reads_tp_cases_all['species'][i])\n",
    "print(\"---- FP-higher-index \")\n",
    "for i in read_tpfp_dic['FP-level-notindex']:\n",
    "    print(i, reads_tp_cases_all['species'][i])\n",
    "print(\"---- FP-level-notindex\")\n",
    "for i in read_tpfp_dic['FP-higher-notindex']:\n",
    "    print(i, reads_tp_cases_all['species'][i])\n"
   ]
  },
  {
   "cell_type": "code",
   "execution_count": 66,
   "id": "7b351d86",
   "metadata": {},
   "outputs": [
    {
     "name": "stdout",
     "output_type": "stream",
     "text": [
      "NZ_CP083590.1__1_1 35621 35621 {25, 27, 29, 31}\n",
      "173858 35621\n"
     ]
    },
    {
     "data": {
      "text/plain": [
       "[0.075, 0.2292, 0.7736, 0.6518, 0.6955, 0.549, 0.4764]"
      ]
     },
     "execution_count": 66,
     "metadata": {},
     "output_type": "execute_result"
    }
   ],
   "source": [
    "r1='NZ_CP083590.1__1_1'#'NZ_PP626394.1__1_1' #list(read_names_list2)[2]\n",
    "print(r1, dic_tax_truth[r1], kraken_reportedtax_cases['k31'][r1], reads_tp_cases_all['species'][r1])\n",
    "print(kraken_reportedtax_cases['RF'][r1], kraken_reportedtax_cases['Oracle']['species'][r1])    \n",
    "[float(round(i,4)) for i in read_k_prob[r1]]"
   ]
  },
  {
   "cell_type": "code",
   "execution_count": null,
   "id": "4d0b25b0",
   "metadata": {},
   "outputs": [],
   "source": []
  },
  {
   "cell_type": "code",
   "execution_count": null,
   "id": "b41dcb80",
   "metadata": {},
   "outputs": [],
   "source": []
  },
  {
   "cell_type": "code",
   "execution_count": 67,
   "id": "bbd7d99f",
   "metadata": {},
   "outputs": [
    {
     "data": {
      "text/plain": [
       "(np.float64(0.7736493212061266), 'k23')"
      ]
     },
     "execution_count": 67,
     "metadata": {},
     "output_type": "execute_result"
    }
   ],
   "source": [
    "import numpy as np\n",
    "cases=list(kraken_kmers_cases.keys())\n",
    "max_val = np.max(read_k_prob[r1])\n",
    "if max_val >0.5:\n",
    "    best_k = cases[np.argmax(read_k_prob[r1])]\n",
    "max_val, best_k"
   ]
  },
  {
   "cell_type": "code",
   "execution_count": 83,
   "id": "df1eccdc",
   "metadata": {},
   "outputs": [
    {
     "data": {
      "text/plain": [
       "[np.float64(1362718.2698412698),\n",
       " np.float64(1643.7467881828104),\n",
       " np.float64(3239284.0),\n",
       " np.float64(85851251.0),\n",
       " np.float64(1643.7465967182982),\n",
       " np.float64(0.15776363578324307),\n",
       " np.float64(0.00019029866653285174),\n",
       " np.float64(0.3750160487934259),\n",
       " np.float64(9.939109054344312),\n",
       " np.float64(0.5592877157939089),\n",
       " np.float64(9.0),\n",
       " np.float64(4.063694267515924),\n",
       " np.float64(29.796178343949045),\n",
       " np.float64(10.0),\n",
       " np.float64(547.0),\n",
       " np.float64(10.0),\n",
       " np.float64(0.003402517863218782),\n",
       " np.float64(0.18611772711806737),\n",
       " np.float64(0.003402517863218782),\n",
       " np.float64(48.0),\n",
       " np.float64(557.0),\n",
       " np.float64(33.0),\n",
       " np.float64(0.016332085743450152),\n",
       " np.float64(0.18952024498128614),\n",
       " np.float64(0.01122830894862198),\n",
       " np.float64(10.0),\n",
       " np.float64(2939.0)]"
      ]
     },
     "execution_count": 83,
     "metadata": {},
     "output_type": "execute_result"
    }
   ],
   "source": [
    "list(f)"
   ]
  },
  {
   "cell_type": "code",
   "execution_count": 86,
   "id": "0c721948",
   "metadata": {},
   "outputs": [
    {
     "name": "stdout",
     "output_type": "stream",
     "text": [
      "mean_all 43036.8\n",
      "mean_nonzero 4.12\n",
      "max 173858.0\n",
      "sum 215184.0\n",
      "mean_exc_tax 4.12\n",
      "mean_all/rlen 0.005\n",
      "mean_nonzero/rlen 0.0\n",
      "max/rlen 0.0201\n",
      "sum/rlen 0.0249\n",
      "mean_exc_tax/rlen 0.0014\n",
      "depth_reported_tax 9.0\n",
      "Avg_kmer_consecutive 9.9333\n",
      "WAvg_kmer_consecutive 76.8\n",
      "kmer_reported_tax 3.0\n",
      "kmer_tax_above 293.0\n",
      "kmer_tax_below 3.0\n",
      "kmer_tax/rlen 0.001\n",
      "kmer_tax_above/rlen 0.0997\n",
      "kmer_tax_below/rlen 0.001\n",
      "kmer_othertax 5.0\n",
      "kmer_othertax_above 293.0\n",
      "kmer_othertax_below 0.0\n",
      "kmer_othertax/rlen 0.0017\n",
      "kmer_othertax_above/rlen 0.0997\n",
      "kmer_othertax_below/rlen 0.0\n",
      "diff#kmers_halfRead 3.0\n",
      "rlen 2939.0\n"
     ]
    }
   ],
   "source": [
    "for f_idx, feature_name in enumerate(feature_names):\n",
    "    readid=read_names_list2.index(r1)\n",
    "    f= features_cases['k31'][readid]\n",
    "    print(feature_name, round(float(f[f_idx]),4))"
   ]
  },
  {
   "cell_type": "code",
   "execution_count": null,
   "id": "aa9ee87b",
   "metadata": {},
   "outputs": [],
   "source": [
    "features_cases['k31'][1][-1]"
   ]
  },
  {
   "cell_type": "code",
   "execution_count": null,
   "id": "54066b91",
   "metadata": {},
   "outputs": [],
   "source": [
    "read_names_list2[:2]\n",
    "\n"
   ]
  },
  {
   "cell_type": "code",
   "execution_count": null,
   "id": "196ab833",
   "metadata": {},
   "outputs": [],
   "source": []
  },
  {
   "cell_type": "code",
   "execution_count": null,
   "id": "76066825",
   "metadata": {},
   "outputs": [],
   "source": []
  },
  {
   "cell_type": "code",
   "execution_count": null,
   "id": "a4d6a234",
   "metadata": {},
   "outputs": [],
   "source": []
  },
  {
   "cell_type": "code",
   "execution_count": null,
   "id": "53d13821",
   "metadata": {},
   "outputs": [],
   "source": []
  },
  {
   "cell_type": "code",
   "execution_count": null,
   "id": "216f74e5",
   "metadata": {},
   "outputs": [],
   "source": [
    "\n",
    "\n",
    "# tax2path, tax2depth = get_tax2path(tax_genome, info, parents)\n",
    "\n",
    "# folder_input =workingdir+\"../../changek/simulatation/\"\n",
    "# truth_file=folder_input+\"true_tax.csv\" # generated by generate_training.ipynb\n",
    "\n",
    "# dic_tax_truth = read_truth_file(truth_file)\n",
    "# logging.info(\"Number of reads in the truth file: \"+str(len(dic_tax_truth)))\n",
    "\n",
    "# classification_folder=folder_input+\"classification/\" \n",
    "# cases=[i.split(\"_\")[0] for i in os.listdir(classification_folder) if i.endswith('_out')] #[\"k\"+str(k) for k in range(15,32)]\n",
    "\n",
    "# kraken_file=\"/vast/blangme2/smajidi5/metagenomics/changek/simulatation/classification/k31_out\"\n",
    "# dic_kraken=read_kraken_file(kraken_file)\n",
    "# #print(dic_kraken)"
   ]
  },
  {
   "cell_type": "code",
   "execution_count": null,
   "id": "09a2446e",
   "metadata": {},
   "outputs": [],
   "source": [
    "classification_folder=\"/vast/blangme2/smajidi5/metagenomics/changek/simulatation/classification/\"\n",
    "\n",
    "cases=[i.split(\"_\")[0] for i in os.listdir(classification_folder) if i.endswith('_out')] #[\"k\"+str(k) for k in range(15,32)]\n",
    "cases=cases[4:5]+cases[-1:]\n",
    "cases"
   ]
  },
  {
   "cell_type": "code",
   "execution_count": null,
   "id": "8f9b189a",
   "metadata": {},
   "outputs": [],
   "source": [
    "\n",
    "# import pandas as pd\n",
    "# in_folder= \"../../files/\"\n",
    "# tree_file=in_folder+\"nodes.dmp\"\n",
    "# tax_genome_file= in_folder + \"seqid2taxid.map_tax_uniq\"\n",
    "\n",
    "# info, Tree, tax_index, tax_genome = get_tax_info(tree_file,tax_genome_file)"
   ]
  },
  {
   "cell_type": "code",
   "execution_count": null,
   "id": "afbdad24",
   "metadata": {},
   "outputs": [],
   "source": [
    "\n",
    "# def get_tax_depth(kraken_kmers_cases, info, parents):\n",
    "#     logging.debug(\"Getting the tax depth\")\n",
    "#     read_tax_depth={}\n",
    "#     for case, kraken_kmers in kraken_kmers_cases.items(): \n",
    "#         read_tax_depth[case]={}\n",
    "#         for read_name, kraken_read_info in kraken_kmers.items():\n",
    "#             reported_tax=kraken_read_info[0]\n",
    "\n",
    "input_dic= kraken_kmers_cases['k31']\n",
    "tax_level='species'\n",
    "read_tpfp_dic= calculate_tp_fp(\"raw_kraken\",input_dic,dic_tax_truth,info,tree_df,parents,tax_level,tax_index)\n",
    "read_tpfp_dic.keys()\n"
   ]
  },
  {
   "cell_type": "code",
   "execution_count": null,
   "id": "12ba972f",
   "metadata": {},
   "outputs": [],
   "source": [
    "\n",
    "# def find_true_ksize(cases,merged,info,tree_df,parents,tax_index, readids_max, level='species'):\n",
    "#     tp_cases_dic={}\n",
    "#     for case in cases:\n",
    "#         case1= 'taxon_tool_'+case\n",
    "#         tp_cases_dic[case]= calculate_tp_fp(merged,info,tree_df,parents,level,case1,tax_index) #+case\n",
    "#     print(len(tp_cases_dic),len(tp_cases_dic[case]))\n",
    "\n",
    "#     return tp_cases_dic, true_k"
   ]
  },
  {
   "cell_type": "code",
   "execution_count": null,
   "id": "92e24221",
   "metadata": {},
   "outputs": [],
   "source": [
    "# a= \"C\tNZ_OZ243912.1__1_1\t1885344\t1253\t0:557 1885344:2 0:81 1885344:7 0:27 1885344:2 0:28 1885344:3 0:121 1885344:13 0:49 1885344:8 0:35 1885344:6 0:68 1885344:27 0:133 1885344:7 0:49\"\n",
    "\n",
    "# kraken_file=\"/vast/blangme2/smajidi5/metagenomics/changek/simulatation/classification/k31_out\"\n",
    "# kraken_file_out=\"/vast/blangme2/smajidi5/metagenomics/changek/simulatation/classification/k31_out_test\"\n",
    "# file_out=open(kraken_file_out,'w')\n",
    "# file_in=open(kraken_file,'r')\n",
    "# dic_kraken={}\n",
    "# for line in file_in: \n",
    "#     line_split=line.strip().split(\"\\t\")\n",
    "#     classified ,read_id, tax_krak, read_len, tax_kmers = line_split\n",
    "#     if read_id in readids_max:\n",
    "#         file_out.write(line+\"\\n\")\n",
    "# file_in.close()\n",
    "# file_out.close()\n"
   ]
  },
  {
   "cell_type": "code",
   "execution_count": null,
   "id": "0c5017a2",
   "metadata": {},
   "outputs": [],
   "source": [
    "# kraken_file=\"/vast/blangme2/smajidi5/metagenomics/changek/simulatation/classification/max15/k31_out\"\n",
    "# file_o=open(kraken_file,'r')\n",
    "# dic_kraken={}\n",
    "# cnt=0\n",
    "# for line in file_o:\n",
    "#     cnt+=1\n",
    "#     line_split=line.strip().split(\"\\t\")\n",
    "#     classified ,read_id, tax_krak, read_len, tax_kmers = line_split"
   ]
  },
  {
   "cell_type": "code",
   "execution_count": null,
   "id": "139ad65d",
   "metadata": {},
   "outputs": [],
   "source": [
    "    # feature_names = ['mean_all', 'mean_nonzero', 'max', 'sum', 'mean_exc_tax', 'mean_all/rlen', 'mean_nonzero/rlen', 'max/rlen', 'sum/rlen', 'mean_exc_tax/rlen', \n",
    "    #             'depth_reported_tax', 'Avg_kmer_consecutive', 'WAvg_kmer_consecutive', 'kmer_reported_tax', 'kmer_tax_above', 'kmer_tax_below', \n",
    "    #             'kmer_tax/rlen', 'kmer_tax_above/rlen', 'kmer_tax_below/rlen', 'kmer_othertax', 'kmer_othertax_above', 'kmer_othertax_below', \n",
    "    #             'kmer_othertax/rlen', 'kmer_othertax_above/rlen', 'kmer_othertax_below/rlen', 'diff#kmers_halfRead']\n"
   ]
  },
  {
   "cell_type": "code",
   "execution_count": null,
   "id": "8fcf63bc",
   "metadata": {},
   "outputs": [],
   "source": [
    "# from sklearn import tree\n",
    "# case='k31'\n",
    "# individual_tree = loaded_regression_dic[case].estimators_[1]  # Get the first tree (you can choose any index)\n",
    "# plt.figure(figsize=(30, 30))\n",
    "# tree.plot_tree(individual_tree, filled=True, rounded=True,fontsize=14, feature_names=feature_names) # , class_names=class_names,\n",
    "# plt.tight_layout()\n",
    "\n",
    "\n",
    "# #plt.savefig(\"/vast/blangme2/smajidi5/metagenomics/_v5__tree_1_4h.png\",dpi=300)\n"
   ]
  },
  {
   "cell_type": "code",
   "execution_count": null,
   "id": "43894a6d",
   "metadata": {},
   "outputs": [],
   "source": [
    "# import matplotlib.pyplot as plt\n",
    "# for case in ['k19', 'k21', 'k25', 'k31']:\n",
    "    \n",
    "#     feature_importances = loaded_regression_dic[case].feature_importances_\n",
    "#     fig = plt.figure()\n",
    "    \n",
    "#     #plt.hist(feature_importances,bins=50)\n",
    "#     plt.barh(feature_names,feature_importances)\n",
    "#     #plt.yscale('log')\n",
    "#     plt.xlabel('Feature importance')\n",
    "#     #plt.ylabel('No. features')\n",
    "#     plt.xticks(rotation=85)\n",
    "#     plt.title(case,fontsize=18)\n",
    "#     plt.tight_layout()\n",
    "#     plt.savefig(\"/vast/blangme2/smajidi5/metagenomics/ـv5d_imporantce\"+case+\"_.png\",dpi=300)"
   ]
  },
  {
   "cell_type": "code",
   "execution_count": null,
   "id": "e3d4abb4",
   "metadata": {},
   "outputs": [],
   "source": [
    "\n",
    "# def decision_tree_to_code(tree, feature_names):\n",
    "\n",
    "#     tree_ = tree.tree_\n",
    "#     feature_name = [\n",
    "#         feature_names[i] if i != _tree.TREE_UNDEFINED else \"undefined!\"\n",
    "#         for i in tree_.feature\n",
    "#     ]\n",
    "#     code_txt =\"def tree({}):\".format(\", \".join(feature_names))+\"\\n\"\n",
    "#     print(code_txt)\n",
    "#     def recurse_func(node, depth):\n",
    "#         #code_txt=\"\"\n",
    "#         indent = \"  \" * depth\n",
    "#         if tree_.feature[node] != _tree.TREE_UNDEFINED:\n",
    "#             name = feature_name[node]\n",
    "#             threshold = tree_.threshold[node]\n",
    "#             code_txt = \"{}if {} <= {}:\".format(indent, name, threshold)+\"\\n\"\n",
    "#             print(code_txt)\n",
    "#             recurse_func(tree_.children_left[node], depth + 1)\n",
    "#             code_txt = \"{}else:  # if {} > {}\".format(indent, name, threshold)+\"\\n\"\n",
    "#             print(code_txt)\n",
    "#             recurse_func(tree_.children_right[node], depth + 1)\n",
    "#         else:\n",
    "#             code_txt = \"{}return {}\".format(indent, tree_.value[node])+\"\\n\"\n",
    "#             print(code_txt)\n",
    "#         #print(code_txt)\n",
    "#         return 1\n",
    "\n",
    "# from sklearn.tree import _tree\n",
    "# from sklearn import tree\n"
   ]
  },
  {
   "cell_type": "code",
   "execution_count": null,
   "id": "54ac47c8",
   "metadata": {},
   "outputs": [],
   "source": [
    "# feature_names = ['mean_all', 'mean_nonzero', 'max', 'sum', 'mean_exc_tax', 'mean_all/rlen', 'mean_nonzero/rlen', 'max/rlen', 'sum/rlen', 'mean_exc_tax/rlen', \n",
    "#     'depth_reported_tax', 'Avg_kmer_consecutive', 'WAvg_kmer_consecutive', 'kmer_reported_tax', 'kmer_tax_above', 'kmer_tax_below', \n",
    "#     'kmer_tax/rlen', 'kmer_tax_above/rlen', 'kmer_tax_below/rlen', 'kmer_othertax', 'kmer_othertax_above', 'kmer_othertax_below', \n",
    "#     'kmer_othertax/rlen', 'kmer_othertax_above/rlen', 'kmer_othertax_below/rlen', 'diff#kmers_halfRead']\n"
   ]
  },
  {
   "cell_type": "code",
   "execution_count": null,
   "id": "47f56467",
   "metadata": {},
   "outputs": [],
   "source": [
    "\n",
    "# import matplotlib.pyplot as plt\n",
    "\n",
    "# tree_idx=1 \n",
    "# regr=loaded_regression_dic['k19']    \n",
    "# # for case,regr in regr_dic.items():\n",
    "# #     for tree_idx in range(num_trees):\n",
    "# individual_tree = regr.estimators_[tree_idx]  # Get the first tree (you can choose any index)\n",
    "# decision_tree_to_code(individual_tree,feature_names)\n",
    "# plt.figure(figsize=(30, 30))\n",
    "# tree.plot_tree(individual_tree, filled=True ,rounded=True,fontsize=14, feature_names=feature_names) # , class_names=class_names,\n",
    "# #plt.savefig(model_folder+\"/tree_\"+case+\"_\"+str(tree_idx)+\".png\",dpi=200)\n"
   ]
  }
 ],
 "metadata": {
  "kernelspec": {
   "display_name": "lca",
   "language": "python",
   "name": "python3"
  },
  "language_info": {
   "codemirror_mode": {
    "name": "ipython",
    "version": 3
   },
   "file_extension": ".py",
   "mimetype": "text/x-python",
   "name": "python",
   "nbconvert_exporter": "python",
   "pygments_lexer": "ipython3",
   "version": "3.12.8"
  }
 },
 "nbformat": 4,
 "nbformat_minor": 5
}
