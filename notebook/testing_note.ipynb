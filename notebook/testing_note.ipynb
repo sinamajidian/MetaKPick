{
 "cells": [
  {
   "cell_type": "code",
   "execution_count": 33,
   "id": "2f750c3e-9902-4c21-8758-80fea1e49fc4",
   "metadata": {},
   "outputs": [
    {
     "name": "stderr",
     "output_type": "stream",
     "text": [
      "2025-08-09 16:04:11,434 - INFO - hi\n"
     ]
    }
   ],
   "source": [
    "b=2\n",
    "import pandas as pd\n",
    "import os\n",
    "import logging\n",
    "from collections import Counter\n",
    "\n",
    "logging.basicConfig(level=logging.DEBUG,format='%(asctime)s - %(levelname)s - %(message)s')\n",
    "logging.info(\"hi\")\n",
    "\n",
    "\n",
    "\n",
    "\n",
    "\n",
    "\n"
   ]
  },
  {
   "cell_type": "code",
   "execution_count": 34,
   "id": "354a6939",
   "metadata": {},
   "outputs": [],
   "source": [
    "import pandas as pd\n",
    "import logging\n",
    "\n",
    "def parse_tree_file(tree_df,children,parents):\n",
    "    # create a dictionary from taxonomic id to index of corresponding row\n",
    "    info = {}\n",
    "    for i in range(len(children)):\n",
    "        info[int(children[i])] = int(i)\n",
    "\n",
    "    # Convert to tree structure (dictionary of sets)\n",
    "    Tree = {}\n",
    "    for i in range(len(tree_df[0])):\n",
    "        parent = int(parents[i])\n",
    "        child = int(children[i])\n",
    "        if parent in Tree:\n",
    "            Tree[parent].add(child)\n",
    "        else:\n",
    "            Tree[parent] = {child}\n",
    "    return info, Tree \n",
    "\n",
    "\n",
    "def find_tax2root(info,parents, tid):\n",
    "    if tid not in info:\n",
    "        #print(tid)\n",
    "        return -1\n",
    "    list_tax2root=[]\n",
    "    while tid != 1:    \n",
    "        list_tax2root.append(tid)\n",
    "        tid = int(parents[info[tid]])\n",
    "    list_tax2root.append(tid)\n",
    "    return list_tax2root\n",
    "\n",
    "\n",
    "\n",
    "def get_tax_info(tree_file,tax_genome_file):\n",
    "    logging.debug(\"Tree file: \"+ tree_file)\n",
    "    tree_df = pd.read_csv(tree_file, sep=\"\\t\", header=None)\n",
    "\n",
    "    logging.debug(\"Read the tree file\") \n",
    "    children = tree_df[0]\n",
    "    parents = tree_df[2]\n",
    "    info, Tree = parse_tree_file(tree_df,children,parents)\n",
    "    logging.debug(\"Parsed the tree file. Size of info: \"+str(   len(info))+\"Size of Tree: \"+str(len(Tree)))\n",
    "\n",
    "\n",
    "    tax_genome_f = open(tax_genome_file,'r') # genomes in the kraken index  \n",
    "    tax_genome = set()\n",
    "    for line in tax_genome_f:\n",
    "        tax_genome.add(int(line.strip()))\n",
    "    logging.debug('Number of genomes/strain '+str(len(tax_genome))+\" in kraken index\")\n",
    "\n",
    "    tax_index_=[]\n",
    "    tax_notfound=[]\n",
    "    for tax_ in tax_genome:\n",
    "        list_tax2root = find_tax2root(info,parents, tax_)\n",
    "        if list_tax2root!=-1:\n",
    "            tax_index_ +=list_tax2root\n",
    "        else:\n",
    "            tax_notfound.append(tax_)\n",
    "    tax_index =set(tax_index_) # all the tax in genomes of kraken, plus all up to root \n",
    "    logging.debug('Number of tax ids'+str(len(tax_index))+\" \"+str(len(tax_index_))) # \n",
    "    logging.debug(\"Genome tax not found in kraken tree\"+str(tax_notfound))\n",
    "\n",
    "    return info, Tree, tax_index, tax_genome, parents, tree_df\n",
    "\n",
    "\n",
    "def get_tax2path(tax_genome, info, parents):\n",
    "\n",
    "    tax2root_all=[]\n",
    "    tax2root_all_dic={} # paths endint at all levels \n",
    "    # paths endint at leaf level (no Vague positive )\n",
    "    tax_index_list= list(tax_genome)  # tax_genome_specieslevel \n",
    "    for tax in tax_index_list:   \n",
    "        tax2root= find_tax2root(info, parents, tax)\n",
    "        if tax2root==-1:\n",
    "            logging.debug(\"tax not found in kraken tree: \"+str(tax))\n",
    "        else:    #elif 2 in tax2root: # selecting only bacteria\n",
    "            tax2root_all.append(tax2root) # # [655353, 655352, 655351, 356, 28211, 1224, 3379134, 2, 131567, 1]\n",
    "            tax2root_all_dic[tax]=tax2root\n",
    "    logging.debug(\"number of paths\"+str(len(tax2root_all)))\n",
    "    tax2path = {} # a tax is present in which paths\n",
    "    tax2depth = {} \n",
    "    for tax2root_path_idx, tax2root_path in enumerate(tax2root_all):\n",
    "        for tax_idx,tax in enumerate(tax2root_path[::-1]):\n",
    "            tax2depth[tax]=tax_idx\n",
    "            if tax in tax2path:\n",
    "                tax2path[tax].append(tax2root_path_idx) #tax2root_path[0]\n",
    "            else:\n",
    "                tax2path[tax]=[tax2root_path_idx]\n",
    "    logging.debug(\"number of tax2path\"+str(len(tax2path))+\" \"+str(len(tax2depth)))\n",
    "\n",
    "    return tax2path, tax2depth\n",
    "\n",
    "\n",
    "\n",
    "\n",
    "def find_tax_level(info,tree_df,parents, tid, tax_level=\"species\"):\n",
    "    if tid not in info:\n",
    "        #print(tid)\n",
    "        return -1\n",
    "    while tid != 1:    \n",
    "        tid_row = info[tid]\n",
    "        if tree_df[4][tid_row] == tax_level:\n",
    "            break\n",
    "        else:\n",
    "            tid = int(parents[info[tid]]) #find_parent_node(tid)\n",
    "            # if retrun 1, it means that the tid is more towaards root that the requested level\n",
    "    return tid\n",
    "\n",
    "\n",
    "\n",
    "def lca_finder_list(info,parents, tax_list):\n",
    "    lca=tax_list[0]\n",
    "    \n",
    "    for tax2 in tax_list[1:]:\n",
    "        lca = lca_finder(info,parents, lca,tax2)\n",
    "        \n",
    "    return lca\n",
    "\n",
    "def lca_finder(info,parents, tax1,tax2):\n",
    "    list_tax2root_1 = find_tax2root(info,parents, tax1)\n",
    "    list_tax2root_2 = find_tax2root(info,parents, tax2)\n",
    "    \n",
    "    list_tax2root1 =list_tax2root_1 [::-1] # reverse from root to leaf\n",
    "    list_tax2root2 =list_tax2root_2 [::-1]\n",
    "    \n",
    "    depth_i = 0\n",
    "    while(depth_i < len(list_tax2root1) and depth_i < len(list_tax2root2)):\n",
    "        #print(depth_i)\n",
    "        if list_tax2root1[depth_i] != list_tax2root2[depth_i]:\n",
    "            break\n",
    "        depth_i += 1\n",
    "    assert list_tax2root1[depth_i-1] == list_tax2root2[depth_i-1], \"issue in LCA finding\"\n",
    "    lca=list_tax2root1[depth_i-1]\n",
    "    #print(lca)\n",
    "    return lca\n",
    "\n",
    "\n",
    "def read_truth_file(truth_file):\n",
    "    merged = pd.read_csv(truth_file, names=[\"read_name\", \"taxon\"])\n",
    "    dic_tax_truth={}\n",
    "    for index, row in merged.iterrows():\n",
    "        dic_tax_truth[row['read_name']]=row['taxon']\n",
    "    return dic_tax_truth\n",
    "\n"
   ]
  },
  {
   "cell_type": "code",
   "execution_count": null,
   "id": "54066b91",
   "metadata": {},
   "outputs": [
    {
     "name": "stderr",
     "output_type": "stream",
     "text": [
      "2025-08-09 16:01:42,823 - DEBUG - Tree file: /vast/blangme2/smajidi5/metagenomics/metakpick_project/MetaKPick/../files/nodes.dmp\n",
      "2025-08-09 16:01:49,705 - DEBUG - Read the tree file\n",
      "2025-08-09 16:02:02,178 - DEBUG - Parsed the tree file. Size of info: 2667703Size of Tree: 241610\n",
      "2025-08-09 16:02:02,188 - DEBUG - Number of genomes/strain 33646 in kraken index\n",
      "2025-08-09 16:02:02,709 - DEBUG - Number of tax ids52229 353816\n",
      "2025-08-09 16:02:02,710 - DEBUG - Genome tax not found in kraken tree[3024248, 2778655, 386490]\n",
      "2025-08-09 16:02:02,766 - DEBUG - tax not found in kraken tree: 3024248\n",
      "2025-08-09 16:02:02,831 - DEBUG - tax not found in kraken tree: 2778655\n",
      "2025-08-09 16:02:03,198 - DEBUG - tax not found in kraken tree: 386490\n",
      "2025-08-09 16:02:03,221 - DEBUG - number of paths33643\n",
      "2025-08-09 16:02:03,301 - DEBUG - number of tax2path52229 52229\n"
     ]
    },
    {
     "ename": "NameError",
     "evalue": "name 'read_truth_file' is not defined",
     "output_type": "error",
     "traceback": [
      "\u001b[0;31m---------------------------------------------------------------------------\u001b[0m",
      "\u001b[0;31mNameError\u001b[0m                                 Traceback (most recent call last)",
      "Cell \u001b[0;32mIn[30], line 12\u001b[0m\n\u001b[1;32m      9\u001b[0m folder_input \u001b[38;5;241m=\u001b[39mworkingdir\u001b[38;5;241m+\u001b[39m\u001b[38;5;124m\"\u001b[39m\u001b[38;5;124m../../changek/simulatation/\u001b[39m\u001b[38;5;124m\"\u001b[39m\n\u001b[1;32m     10\u001b[0m truth_file\u001b[38;5;241m=\u001b[39mfolder_input\u001b[38;5;241m+\u001b[39m\u001b[38;5;124m\"\u001b[39m\u001b[38;5;124mtrue_tax.csv\u001b[39m\u001b[38;5;124m\"\u001b[39m \u001b[38;5;66;03m# generated by generate_training.ipynb\u001b[39;00m\n\u001b[0;32m---> 12\u001b[0m dic_tax_truth \u001b[38;5;241m=\u001b[39m \u001b[43mread_truth_file\u001b[49m(truth_file)\n\u001b[1;32m     13\u001b[0m logging\u001b[38;5;241m.\u001b[39minfo(\u001b[38;5;124m\"\u001b[39m\u001b[38;5;124mNumber of reads in the truth file: \u001b[39m\u001b[38;5;124m\"\u001b[39m\u001b[38;5;241m+\u001b[39m\u001b[38;5;28mstr\u001b[39m(\u001b[38;5;28mlen\u001b[39m(dic_tax_truth)))\n\u001b[1;32m     15\u001b[0m classification_folder\u001b[38;5;241m=\u001b[39mfolder_input\u001b[38;5;241m+\u001b[39m\u001b[38;5;124m\"\u001b[39m\u001b[38;5;124mclassification/\u001b[39m\u001b[38;5;124m\"\u001b[39m \n",
      "\u001b[0;31mNameError\u001b[0m: name 'read_truth_file' is not defined"
     ]
    }
   ],
   "source": [
    "workingdir=\"/vast/blangme2/smajidi5/metagenomics/metakpick_project/MetaKPick/\"\n",
    "in_folder= workingdir+\"../files/\"\n",
    "tree_file=in_folder+\"nodes.dmp\"\n",
    "tax_genome_file= in_folder + \"seqid2taxid.map_tax_uniq\"\n",
    "\n",
    "info, Tree, tax_index, tax_genome, parents, tree_df = get_tax_info(tree_file,tax_genome_file)    \n",
    "tax2path, tax2depth = get_tax2path(tax_genome, info, parents)\n",
    "\n",
    "folder_input =workingdir+\"../../changek/simulatation/\"\n",
    "truth_file=folder_input+\"true_tax.csv\" # generated by generate_training.ipynb\n"
   ]
  },
  {
   "cell_type": "code",
   "execution_count": 35,
   "id": "196ab833",
   "metadata": {},
   "outputs": [
    {
     "name": "stderr",
     "output_type": "stream",
     "text": [
      "2025-08-09 16:04:53,798 - INFO - Number of reads in the truth file: 248875\n"
     ]
    }
   ],
   "source": [
    "\n",
    "dic_tax_truth = read_truth_file(truth_file)\n",
    "logging.info(\"Number of reads in the truth file: \"+str(len(dic_tax_truth)))\n",
    "\n",
    "classification_folder=folder_input+\"classification/\" \n",
    "cases=[i.split(\"_\")[0] for i in os.listdir(classification_folder) if i.endswith('_out')] #[\"k\"+str(k) for k in range(15,32)]\n"
   ]
  },
  {
   "cell_type": "code",
   "execution_count": null,
   "id": "76066825",
   "metadata": {},
   "outputs": [],
   "source": []
  },
  {
   "cell_type": "code",
   "execution_count": null,
   "id": "a4d6a234",
   "metadata": {},
   "outputs": [],
   "source": []
  },
  {
   "cell_type": "code",
   "execution_count": 2,
   "id": "53d13821",
   "metadata": {},
   "outputs": [],
   "source": [
    "\n",
    "def read_kraken_file(kraken_file):\n",
    "\n",
    "    # \"C\"/\"U\": a one letter code indicating that the sequence was either classified or unclassified.\n",
    "    # The sequence ID, obtained from the FASTA/FASTQ header.\n",
    "    # The taxonomy ID Kraken 2 used to label the sequence; this is 0 if the sequence is unclassified.\n",
    "    # The length of the sequence in bp. In the case of paired read data, this will be a string containing the lengths of the two sequences in bp, separated by a pipe character, e.g. \"98|94\".\n",
    "    # A space-delimited list indicating the LCA mapping of each  k-mer in the sequence(s).\n",
    "    # For example, \"562:13 561:4 A:31 0:1 562:3\" would indicate that:\n",
    "    # the first 13 k-mers mapped to taxonomy ID #562 ... 31  ambiguous nucleotide (A)\n",
    "    file_o=open(kraken_file,'r')\n",
    "    dic_kraken={}\n",
    "    for line in file_o:\n",
    "        line_split=line.strip().split(\"\\t\")\n",
    "        classified ,read_id, tax_krak, read_len, tax_kmers = line_split\n",
    "        if classified==\"C\":\n",
    "            \n",
    "            tax_kmer_dic = {}\n",
    "            tax_kmer_num_dic={}\n",
    "            pos=-1\n",
    "            for tax_kmer in tax_kmers.split(\" \"):\n",
    "                tax_, num_raw =  tax_kmer.split(\":\")\n",
    "                num=int(num_raw)\n",
    "                pos+=num     # how many consecutive kmer has this taxid # 0:6 543:1 91347:1 six unclassified, \n",
    "                if tax_ =='0' or tax_ =='A':\n",
    "                    continue\n",
    "                tax=int(tax_)\n",
    "                if tax in tax_kmer_dic:\n",
    "                    tax_kmer_dic[tax].append( (pos,num))\n",
    "                    tax_kmer_num_dic[tax]+=num\n",
    "                else:    \n",
    "                    tax_kmer_dic[tax]=[(pos,num)]\n",
    "                    tax_kmer_num_dic[tax]=num\n",
    "            kraken_read_info = int(tax_krak), int(read_len), tax_kmer_dic, tax_kmer_num_dic\n",
    "        elif classified==\"U\":\n",
    "            read_id, tax_krak, read_len, tax_kmers = line_split[1:]\n",
    "            kraken_read_info = 0, int(read_len), {}, {}\n",
    "        else:\n",
    "            print(\"Error: \",line_split)\n",
    "            kraken_read_info = 0, 0, {}, {}\n",
    "        \n",
    "        dic_kraken[read_id] = kraken_read_info \n",
    "    file_o.close()\n",
    "    return dic_kraken"
   ]
  },
  {
   "cell_type": "code",
   "execution_count": 3,
   "id": "216f74e5",
   "metadata": {},
   "outputs": [],
   "source": [
    "kraken_file=\"/vast/blangme2/smajidi5/metagenomics/changek/simulatation/classification/k31_out\"\n",
    "dic_kraken=read_kraken_file(kraken_file)\n",
    "#print(dic_kraken)"
   ]
  },
  {
   "cell_type": "code",
   "execution_count": 4,
   "id": "2c497114",
   "metadata": {},
   "outputs": [
    {
     "data": {
      "text/plain": [
       "249069"
      ]
     },
     "execution_count": 4,
     "metadata": {},
     "output_type": "execute_result"
    }
   ],
   "source": [
    "len(dic_kraken)"
   ]
  },
  {
   "cell_type": "code",
   "execution_count": null,
   "id": "774a8717",
   "metadata": {},
   "outputs": [
    {
     "data": {
      "text/plain": [
       "(1885344,\n",
       " 1253,\n",
       " {1885344: [(558, 2),\n",
       "   (646, 7),\n",
       "   (675, 2),\n",
       "   (706, 3),\n",
       "   (840, 13),\n",
       "   (897, 8),\n",
       "   (938, 6),\n",
       "   (1033, 27),\n",
       "   (1173, 7)]},\n",
       " {1885344: 75})"
      ]
     },
     "execution_count": 5,
     "metadata": {},
     "output_type": "execute_result"
    }
   ],
   "source": [
    "dic_kraken['NZ_OZ243912.1__1_1']"
   ]
  },
  {
   "cell_type": "code",
   "execution_count": 8,
   "id": "09a2446e",
   "metadata": {},
   "outputs": [
    {
     "data": {
      "text/plain": [
       "['k25', 'k31']"
      ]
     },
     "execution_count": 8,
     "metadata": {},
     "output_type": "execute_result"
    }
   ],
   "source": [
    "classification_folder=\"/vast/blangme2/smajidi5/metagenomics/changek/simulatation/classification/\"\n",
    "\n",
    "cases=[i.split(\"_\")[0] for i in os.listdir(classification_folder) if i.endswith('_out')] #[\"k\"+str(k) for k in range(15,32)]\n",
    "cases=cases[4:5]+cases[-1:]\n",
    "cases"
   ]
  },
  {
   "cell_type": "code",
   "execution_count": null,
   "id": "2445864f",
   "metadata": {},
   "outputs": [],
   "source": [
    "\n",
    "def read_kraken_all(cases, classification_folder): # , readids_max, num_reads=10000\n",
    "    print(\"read kraken's k-mer  count per tax\")\n",
    "    #folder=\"/vast/blangme2/smajidi5/metagenomics/changek/simulatation/classification/\" # \n",
    "    #cases=['k19','k25','k31'] # ,'k21'\n",
    "    kraken_kmers_cases={}\n",
    "    for case in reversed(cases): \n",
    "        print(case)\n",
    "        kraken_kmers_cases[case]=  read_kraken_file(classification_folder+case+\"_out\")\n",
    "        logging.info(case+\" \"+str(len(kraken_kmers_cases[case])))\n",
    "    \n",
    "    for case_k, case in  enumerate(cases): \n",
    "        read_names_case=set(kraken_kmers_cases[case].keys())\n",
    "        if case_k==0:\n",
    "            read_names_case0= read_names_case\n",
    "        else:\n",
    "            assert read_names_case0 == read_names_case, \"we expect the same reads in all cases\"+case+\" is not the same as \"+cases[0]+str(len(read_names_case0))+\" \"+str(len(read_names_case)) \n",
    "\n",
    "    return read_names_case0, kraken_kmers_cases\n",
    "\n"
   ]
  },
  {
   "cell_type": "code",
   "execution_count": 17,
   "id": "f416e06e",
   "metadata": {},
   "outputs": [
    {
     "name": "stdout",
     "output_type": "stream",
     "text": [
      "read kraken's k-mer  count per tax\n",
      "k31\n"
     ]
    },
    {
     "name": "stderr",
     "output_type": "stream",
     "text": [
      "2025-08-09 15:51:37,953 - INFO - k31 249069\n"
     ]
    },
    {
     "name": "stdout",
     "output_type": "stream",
     "text": [
      "k25\n"
     ]
    },
    {
     "name": "stderr",
     "output_type": "stream",
     "text": [
      "2025-08-09 15:52:02,213 - INFO - k25 249069\n"
     ]
    }
   ],
   "source": [
    "read_names_list, kraken_kmers_cases = read_kraken_all(cases, classification_folder)"
   ]
  },
  {
   "cell_type": "code",
   "execution_count": 20,
   "id": "9dcab6fb",
   "metadata": {},
   "outputs": [
    {
     "data": {
      "text/plain": [
       "dict_keys(['k31', 'k25'])"
      ]
     },
     "execution_count": 20,
     "metadata": {},
     "output_type": "execute_result"
    }
   ],
   "source": [
    "kraken_kmers_cases.keys()"
   ]
  },
  {
   "cell_type": "code",
   "execution_count": 21,
   "id": "e4b85ee7",
   "metadata": {},
   "outputs": [
    {
     "data": {
      "text/plain": [
       "dict_keys(['k31', 'k25'])"
      ]
     },
     "execution_count": 21,
     "metadata": {},
     "output_type": "execute_result"
    }
   ],
   "source": [
    "kraken_kmers_cases.keys()"
   ]
  },
  {
   "cell_type": "code",
   "execution_count": 27,
   "id": "0d22a0f3",
   "metadata": {},
   "outputs": [
    {
     "data": {
      "text/plain": [
       "(1885344, 0)"
      ]
     },
     "execution_count": 27,
     "metadata": {},
     "output_type": "execute_result"
    }
   ],
   "source": [
    "kraken_kmers_cases['k31']['NZ_OZ243912.1__1_1'][0], kraken_kmers_cases['k31']['NZ_RREV01000078.1__1_1'][0]  "
   ]
  },
  {
   "cell_type": "code",
   "execution_count": null,
   "id": "0d487c1c",
   "metadata": {},
   "outputs": [],
   "source": [
    "\n",
    "def get_tax_depth(kraken_kmers_cases, info, parents):\n",
    "    logging.debug(\"Getting the tax depth\")\n",
    "    read_tax_depth={}\n",
    "    for case, kraken_kmers in kraken_kmers_cases.items(): \n",
    "        read_tax_depth[case]={}\n",
    "        for read_name, kraken_read_info in kraken_kmers.items():\n",
    "            reported_tax=kraken_read_info[0]\n",
    "            tax2root_list = find_tax2root(info,parents, reported_tax) # [2711156, 1649486, 41297, 204457, 28211, 1224, 3379134, 2, 131567, 1]\n",
    "            if tax2root_list!=-1:\n",
    "                depth=len(tax2root_list)\n",
    "            else:\n",
    "                depth=0\n",
    "            read_tax_depth[case][read_name]=depth\n",
    "            \n",
    "    logging.debug(\"Number of reads in read_tax_depth: \"+str(len(read_tax_depth))+\" \"+str(len(read_tax_depth[case])))\n",
    "    logging.debug(\"Counter of read_tax_depth: \"+str(Counter(read_tax_depth[case].values())))\n",
    "\n",
    "    return read_tax_depth  "
   ]
  },
  {
   "cell_type": "code",
   "execution_count": 41,
   "id": "a87a82d9",
   "metadata": {},
   "outputs": [
    {
     "name": "stderr",
     "output_type": "stream",
     "text": [
      "2025-08-09 16:06:13,705 - DEBUG - Getting the tax depth\n",
      "2025-08-09 16:06:19,684 - DEBUG - Number of reads in read_tax_depth: 2 249069\n",
      "2025-08-09 16:06:19,700 - DEBUG - Counter of read_tax_depth: Counter({10: 86765, 11: 54985, 12: 27308, 0: 26623, 9: 16158, 8: 13085, 7: 6156, 13: 5319, 6: 5238, 1: 2278, 3: 1684, 5: 1207, 32: 1028, 4: 581, 14: 514, 2: 132, 15: 6, 16: 1, 22: 1})\n"
     ]
    }
   ],
   "source": [
    "read_tax_depth = get_tax_depth(kraken_kmers_cases, info,parents)"
   ]
  },
  {
   "cell_type": "code",
   "execution_count": null,
   "id": "56185f9e",
   "metadata": {},
   "outputs": [
    {
     "data": {
      "text/plain": [
       "13"
      ]
     },
     "execution_count": 44,
     "metadata": {},
     "output_type": "execute_result"
    }
   ],
   "source": [
    "read_tax_depth['k31']['NZ_OZ243912.1__1_1']\n"
   ]
  },
  {
   "cell_type": "code",
   "execution_count": 47,
   "id": "c7689f34",
   "metadata": {},
   "outputs": [
    {
     "data": {
      "text/plain": [
       "([1885344,\n",
       "  2640460,\n",
       "  1434037,\n",
       "  1853227,\n",
       "  1853224,\n",
       "  1853222,\n",
       "  1853220,\n",
       "  68336,\n",
       "  1783270,\n",
       "  3379134,\n",
       "  2,\n",
       "  131567,\n",
       "  1],\n",
       " 13)"
      ]
     },
     "execution_count": 47,
     "metadata": {},
     "output_type": "execute_result"
    }
   ],
   "source": [
    "find_tax2root(info,parents, 1885344) , len(find_tax2root(info,parents, 1885344) )"
   ]
  },
  {
   "cell_type": "code",
   "execution_count": null,
   "id": "656305e0",
   "metadata": {},
   "outputs": [],
   "source": []
  },
  {
   "cell_type": "code",
   "execution_count": null,
   "id": "8f9b189a",
   "metadata": {},
   "outputs": [],
   "source": [
    "\n",
    "import pandas as pd\n",
    "in_folder= \"../../files/\"\n",
    "tree_file=in_folder+\"nodes.dmp\"\n",
    "tax_genome_file= in_folder + \"seqid2taxid.map_tax_uniq\"\n",
    "\n",
    "info, Tree, tax_index, tax_genome = get_tax_info(tree_file,tax_genome_file)"
   ]
  },
  {
   "cell_type": "code",
   "execution_count": null,
   "id": "f6e0ff4e",
   "metadata": {},
   "outputs": [],
   "source": []
  },
  {
   "cell_type": "code",
   "execution_count": 48,
   "id": "9b632617",
   "metadata": {},
   "outputs": [
    {
     "data": {
      "text/plain": [
       "248875"
      ]
     },
     "execution_count": 48,
     "metadata": {},
     "output_type": "execute_result"
    }
   ],
   "source": [
    "len(dic_tax_truth)"
   ]
  },
  {
   "cell_type": "code",
   "execution_count": null,
   "id": "c9d323a3",
   "metadata": {},
   "outputs": [],
   "source": [
    "\n",
    "tax2path, tax2depth = get_tax2path(tax_genome, info, parents)"
   ]
  },
  {
   "cell_type": "code",
   "execution_count": null,
   "id": "afbdad24",
   "metadata": {},
   "outputs": [],
   "source": [
    "\n",
    "def get_tax_depth(kraken_kmers_cases, info, parents):\n",
    "    logging.debug(\"Getting the tax depth\")\n",
    "    read_tax_depth={}\n",
    "    for case, kraken_kmers in kraken_kmers_cases.items(): \n",
    "        read_tax_depth[case]={}\n",
    "        for read_name, kraken_read_info in kraken_kmers.items():\n",
    "            reported_tax=kraken_read_info[0]\n"
   ]
  },
  {
   "cell_type": "code",
   "execution_count": 85,
   "id": "78c9f401",
   "metadata": {},
   "outputs": [],
   "source": [
    "\n",
    "\n",
    "\n",
    "def calculate_tp_fp(mode,input_dic,dic_tax_truth,info,tree_df,parents,tax_level,tax_index):\n",
    "\n",
    "    \"\"\"\n",
    "    input_dic:\n",
    "        raw_kraken: kraken_kmers_case     mode:\"raw_kraken\"\n",
    "        predicted_tax: predicted_tax_dic  mode:\"predicted_tax\"\n",
    "    \"\"\"\n",
    "    read_tpfp_dic={\"TP\":set(),\"FP-level-notindex\":set(), 'FP-higher-notindex':set(),\"FP-level-index\":set(), 'FP-higher-index':set(),\n",
    "               'inconsistent-tool':set(), 'TN':set(),\n",
    "               'FN':set(),'VP':set(), \"truth-level\":set(), \"no-truth-level\":set(),\"total_unclassified\":set(),'notruth':[]} #  at the level ,'taxNotfoundintool':[]\n",
    "    \n",
    "\n",
    "    for read_name, kraken_read_info in input_dic.items():\n",
    "        if read_name not in dic_tax_truth:\n",
    "            read_tpfp_dic['notruth'].append(read_name)\n",
    "            continue\n",
    "        tax_true = dic_tax_truth[read_name]\n",
    "        if mode==\"raw_kraken\":\n",
    "            tax_predicted = kraken_read_info[0]\n",
    "        elif mode==\"predicted_tax\":\n",
    "            tax_predicted = kraken_read_info\n",
    "        else:\n",
    "            raise ValueError(\"mode not supported\")\n",
    "\n",
    "        if tax_predicted==1:\n",
    "            tax_predicted=2 # probably 1 has another meaning in find tax level, that's fine the level should be much deeper \n",
    "    \n",
    "        tax_true_level = find_tax_level(info,tree_df,parents, tax_true, tax_level)\n",
    "        tax_predicted_level = find_tax_level(info,tree_df,parents, tax_predicted, tax_level)\n",
    "    \n",
    "        if tax_predicted_level==-1 and tax_predicted!=0:\n",
    "            read_tpfp_dic['inconsistent-tool'].add(read_name)\n",
    "            # tid_tool_taxlevel==-1 we are ignoring these reads if the tax is not in the node.dump \n",
    "            # we think these cases are limited and probably happened due to different node.dump in build vs evaluation \n",
    "    \n",
    "        if tax_predicted==0 :\n",
    "            read_tpfp_dic[\"total_unclassified\"].add(read_name)\n",
    "        if tax_predicted==-1 or tax_true_level < 1:\n",
    "            logging.debug(\"to check \"+str(tax_predicted)+\" \"+str(tax_true)+\" \"+str(tax_true_level))\n",
    "\n",
    "            #to check  9400 632 0 -1\n",
    "    \n",
    "        if tax_true_level ==1 or  tax_true_level==-1 or (tax_predicted_level==-1 and tax_predicted!=0): # true is not at the level, is higher than the level     or true doest not exist in info\n",
    "            #including 'inconsistent-tool'\n",
    "            read_tpfp_dic[\"no-truth-level\"].add(read_name)\n",
    "            \n",
    "        else:\n",
    "            read_tpfp_dic[\"truth-level\"].add(read_name)\n",
    "    \n",
    "        if tax_true_level >1 and tax_predicted==0:\n",
    "            if tax_true in tax_index:\n",
    "                read_tpfp_dic['FN'].add(read_name) # unclassified, among reads with true label at the level \n",
    "            else:\n",
    "                read_tpfp_dic['TN'].add(read_name) # unclassified, among reads with true label at the level \n",
    "            \n",
    "        if tax_true_level>1 and tax_predicted_level==tax_true_level :\n",
    "            read_tpfp_dic['TP'].add(read_name) # correct\n",
    "    \n",
    "        if tax_true_level>1 and tax_predicted>1 and tax_predicted_level==1 :  # tool labled at higher than taxlevel \n",
    "            tool_level= tree_df[4][info[tax_predicted]]\n",
    "            tax_true_toollevel = find_tax_level(info,tree_df,parents, tax_true, tool_level)\n",
    "            if tax_true_toollevel == tax_predicted: # at the tool level is correct \n",
    "                read_tpfp_dic['VP'].add(read_name) # vague positive, one deeper lvel (ancestror)  match    \n",
    "            if tax_true_toollevel != tax_predicted:\n",
    "                if tax_true in tax_index:\n",
    "                    read_tpfp_dic['FP-higher-index'].add(read_name) # tool labeld at higher level and worng (not a VP) \n",
    "                else:\n",
    "                    read_tpfp_dic['FP-higher-notindex'].add(read_name) # tool labeld at higher level and worng (not a VP) \n",
    "    \n",
    "        if tax_true_level > 1 and tax_predicted_level>1 and  tax_predicted_level != tax_true_level :\n",
    "            if tax_true in tax_index:\n",
    "                read_tpfp_dic['FP-level-index'].add(read_name) # tool labeled at the tax level (or lower) and wrong \n",
    "            else:\n",
    "                read_tpfp_dic['FP-level-notindex'].add(read_name) # tool labeled at the tax level (or lower) and wrong             \n",
    "               \n",
    "    return read_tpfp_dic"
   ]
  },
  {
   "cell_type": "code",
   "execution_count": null,
   "id": "52269f38-cd5e-463f-8f56-b148864d6a7c",
   "metadata": {},
   "outputs": [
    {
     "name": "stderr",
     "output_type": "stream",
     "text": [
      "2025-08-09 16:34:46,934 - DEBUG - to check 2 386490 -1\n",
      "2025-08-09 16:34:46,935 - DEBUG - to check 2 386490 -1\n",
      "2025-08-09 16:34:46,935 - DEBUG - to check 0 386490 -1\n",
      "2025-08-09 16:34:47,845 - DEBUG - to check 562 2778655 -1\n",
      "2025-08-09 16:34:47,846 - DEBUG - to check 1446707 2778655 -1\n",
      "2025-08-09 16:34:47,846 - DEBUG - to check 1134687 2778655 -1\n",
      "2025-08-09 16:34:48,715 - DEBUG - to check 379 3024248 -1\n",
      "2025-08-09 16:34:48,716 - DEBUG - to check 379 3024248 -1\n"
     ]
    },
    {
     "data": {
      "text/plain": [
       "dict_keys(['TP', 'FP-level-notindex', 'FP-higher-notindex', 'FP-level-index', 'FP-higher-index', 'inconsistent-tool', 'TN', 'FN', 'VP', 'truth-level', 'no-truth-level', 'total_unclassified', 'notruth'])"
      ]
     },
     "execution_count": 66,
     "metadata": {},
     "output_type": "execute_result"
    }
   ],
   "source": [
    "input_dic= kraken_kmers_cases['k31']\n",
    "tax_level='species'\n",
    "read_tpfp_dic= calculate_tp_fp(\"raw_kraken\",input_dic,dic_tax_truth,info,tree_df,parents,tax_level,tax_index)\n",
    "read_tpfp_dic.keys()\n"
   ]
  },
  {
   "cell_type": "code",
   "execution_count": 64,
   "id": "4c63fadb",
   "metadata": {},
   "outputs": [
    {
     "data": {
      "text/plain": [
       "True"
      ]
     },
     "execution_count": 64,
     "metadata": {},
     "output_type": "execute_result"
    }
   ],
   "source": [
    "'NZ_RREV01000078.1__1_1' in read_tpfp_dic['FN']"
   ]
  },
  {
   "cell_type": "code",
   "execution_count": null,
   "id": "fbc83d02",
   "metadata": {},
   "outputs": [],
   "source": []
  },
  {
   "cell_type": "code",
   "execution_count": null,
   "id": "4c7ad849",
   "metadata": {},
   "outputs": [
    {
     "name": "stdout",
     "output_type": "stream",
     "text": [
      "k25\n"
     ]
    },
    {
     "name": "stderr",
     "output_type": "stream",
     "text": [
      "2025-08-09 16:45:31,039 - DEBUG - to check 2921447 386490 -1\n",
      "2025-08-09 16:45:31,040 - DEBUG - to check 186817 386490 -1\n",
      "2025-08-09 16:45:31,041 - DEBUG - to check 0 386490 -1\n",
      "2025-08-09 16:45:31,939 - DEBUG - to check 562 2778655 -1\n",
      "2025-08-09 16:45:31,940 - DEBUG - to check 1446707 2778655 -1\n",
      "2025-08-09 16:45:31,941 - DEBUG - to check 573 2778655 -1\n",
      "2025-08-09 16:45:32,807 - DEBUG - to check 2613769 3024248 -1\n",
      "2025-08-09 16:45:32,808 - DEBUG - to check 1981173 3024248 -1\n",
      "2025-08-09 16:45:34,501 - DEBUG - Number of reads in the case TP : 152138\n",
      "2025-08-09 16:45:34,502 - DEBUG - Number of reads in the case not truth level : 194\n",
      "2025-08-09 16:45:34,868 - DEBUG - Number of reads in the case TP : 249069\n",
      "2025-08-09 16:45:34,869 - DEBUG - Number of kmer sizes in the TP for readNZ_CP028392.1__1_2 : 1\n"
     ]
    }
   ],
   "source": [
    "def calculate_true_k(kraken_kmers_cases,dic_tax_truth,info,tree_df,parents,tax_level,tax_index):\n",
    "    tp_cases_dic={}\n",
    "    for case in cases[4:5]:\n",
    "        logging.debug('finding true k for case '+case)\n",
    "        #merged  = _utils_kraken.read_kraken_classification(cases, truth_file, classification_folder )    \n",
    "        input_dic= kraken_kmers_cases[case]\n",
    "        tax_level='species'\n",
    "        read_tpfp_dic_case= calculate_tp_fp(\"raw_kraken\",input_dic,dic_tax_truth,info,tree_df,parents,tax_level,tax_index)\n",
    "        logging.debug(\"Number of reads in the case TP : \"+str(len(read_tpfp_dic_case['TP'])))\n",
    "        logging.debug(\"Number of reads in the case not truth level : \"+str(len(read_tpfp_dic_case['notruth'])))\n",
    "        tp_cases_dic[case]=read_tpfp_dic_case['TP']\n",
    "\n",
    "    true_k={}\n",
    "    for read_name in read_names_list:\n",
    "        true_k[read_name]=set()\n",
    "        for case_k, case in  enumerate(cases[4:5]): # reversed(\n",
    "            k = int(case[1:3])\n",
    "            if read_name in tp_cases_dic[case]:\n",
    "                true_k[read_name].add(k)\n",
    "    logging.debug(\"Number of reads in the case TP : \"+str(len(true_k)))\n",
    "    logging.debug(\"Number of kmer sizes in the TP for read\"+read_name+\" : \"+str(len(true_k[read_name])))\n",
    "    return true_k\n",
    "\n",
    "\n",
    "true_k = calculate_true_k(kraken_kmers_cases,dic_tax_truth,info,tree_df,parents,tax_level,tax_index)"
   ]
  },
  {
   "cell_type": "code",
   "execution_count": null,
   "id": "4f7758a6",
   "metadata": {},
   "outputs": [
    {
     "data": {
      "text/plain": [
       "249069"
      ]
     },
     "execution_count": 89,
     "metadata": {},
     "output_type": "execute_result"
    }
   ],
   "source": [
    "len(true_k)"
   ]
  },
  {
   "cell_type": "code",
   "execution_count": null,
   "id": "06da5c3a",
   "metadata": {},
   "outputs": [],
   "source": []
  },
  {
   "cell_type": "code",
   "execution_count": null,
   "id": "12ba972f",
   "metadata": {},
   "outputs": [
    {
     "data": {
      "text/plain": [
       "194"
      ]
     },
     "execution_count": 67,
     "metadata": {},
     "output_type": "execute_result"
    }
   ],
   "source": [
    "\n",
    "def find_true_ksize(cases,merged,info,tree_df,parents,tax_index, readids_max, level='species'):\n",
    "    tp_cases_dic={}\n",
    "    for case in cases:\n",
    "        case1= 'taxon_tool_'+case\n",
    "        tp_cases_dic[case]= calculate_tp_fp(merged,info,tree_df,parents,level,case1,tax_index) #+case\n",
    "    print(len(tp_cases_dic),len(tp_cases_dic[case]))\n",
    "\n",
    "    return tp_cases_dic, true_k"
   ]
  },
  {
   "cell_type": "code",
   "execution_count": null,
   "id": "92e24221",
   "metadata": {},
   "outputs": [],
   "source": [
    "# a= \"C\tNZ_OZ243912.1__1_1\t1885344\t1253\t0:557 1885344:2 0:81 1885344:7 0:27 1885344:2 0:28 1885344:3 0:121 1885344:13 0:49 1885344:8 0:35 1885344:6 0:68 1885344:27 0:133 1885344:7 0:49\"\n",
    "\n",
    "# kraken_file=\"/vast/blangme2/smajidi5/metagenomics/changek/simulatation/classification/k31_out\"\n",
    "# kraken_file_out=\"/vast/blangme2/smajidi5/metagenomics/changek/simulatation/classification/k31_out_test\"\n",
    "# file_out=open(kraken_file_out,'w')\n",
    "# file_in=open(kraken_file,'r')\n",
    "# dic_kraken={}\n",
    "# for line in file_in: \n",
    "#     line_split=line.strip().split(\"\\t\")\n",
    "#     classified ,read_id, tax_krak, read_len, tax_kmers = line_split\n",
    "#     if read_id in readids_max:\n",
    "#         file_out.write(line+\"\\n\")\n",
    "# file_in.close()\n",
    "# file_out.close()\n",
    "\n",
    "\n",
    "\n",
    "\n",
    "\n",
    "\n"
   ]
  },
  {
   "cell_type": "code",
   "execution_count": 95,
   "id": "0c5017a2",
   "metadata": {},
   "outputs": [],
   "source": [
    "kraken_file=\"/vast/blangme2/smajidi5/metagenomics/changek/simulatation/classification/max15/k31_out\"\n",
    "file_o=open(kraken_file,'r')\n",
    "dic_kraken={}\n",
    "cnt=0\n",
    "for line in file_o:\n",
    "    cnt+=1\n",
    "    line_split=line.strip().split(\"\\t\")\n",
    "    classified ,read_id, tax_krak, read_len, tax_kmers = line_split"
   ]
  },
  {
   "cell_type": "code",
   "execution_count": 96,
   "id": "a4855122",
   "metadata": {},
   "outputs": [
    {
     "data": {
      "text/plain": [
       "86202"
      ]
     },
     "execution_count": 96,
     "metadata": {},
     "output_type": "execute_result"
    }
   ],
   "source": [
    "cnt"
   ]
  },
  {
   "cell_type": "code",
   "execution_count": 98,
   "id": "a743b3f1",
   "metadata": {},
   "outputs": [
    {
     "name": "stderr",
     "output_type": "stream",
     "text": [
      "2025-08-09 19:41:24,555 - INFO - Loading the model: Random_Forest_regression_models20250809_192205.pkl in the folder: /vast/blangme2/smajidi5/metagenomics/metakpick_project/results/\n",
      "2025-08-09 19:41:25,188 - INFO - Model loaded({'k21': RandomForestRegressor(max_features=0.8, max_leaf_nodes=50, n_estimators=1000,\n",
      "                      n_jobs=20, random_state=14, verbose=True), 'k23': RandomForestRegressor(max_features=0.8, max_leaf_nodes=50, n_estimators=1000,\n",
      "                      n_jobs=20, random_state=14, verbose=True), 'k25': RandomForestRegressor(max_features=0.8, max_leaf_nodes=50, n_estimators=1000,\n",
      "                      n_jobs=20, random_state=14, verbose=True), 'k27': RandomForestRegressor(max_features=0.8, max_leaf_nodes=50, n_estimators=1000,\n",
      "                      n_jobs=20, random_state=14, verbose=True), 'k29': RandomForestRegressor(max_features=0.8, max_leaf_nodes=50, n_estimators=1000,\n",
      "                      n_jobs=20, random_state=14, verbose=True), 'k31': RandomForestRegressor(max_features=0.8, max_leaf_nodes=50, n_estimators=1000,\n",
      "                      n_jobs=20, random_state=14, verbose=True)},)\n"
     ]
    }
   ],
   "source": [
    "#workingdir\n",
    "import pickle\n",
    "model_folder=\"/vast/blangme2/smajidi5/metagenomics/metakpick_project/results/\"# workingdir+\"results/\"\n",
    "model_files =[ model_file for  model_file in os.listdir(model_folder) if model_file.endswith(\".pkl\") and model_file.startswith(\"Random_Forest_regression_models\")]\n",
    "model_files.sort()\n",
    "model_file=model_files[-1]\n",
    "#model_time_stamp=model_file.split(\"_\")[1] # model_file=workingdir+\"Random_Forest_regression_models\"+model_time_stamp+\".pkl\" \n",
    "logging.info(\"Loading the model: \"+model_file+\" in the folder: \"+model_folder)\n",
    "loaded_regression_dic= pickle.load(open(model_folder+model_file, \"rb\"))\n",
    "logging.info(\"Model loaded\"+str(loaded_regression_dic))\n"
   ]
  },
  {
   "cell_type": "code",
   "execution_count": 100,
   "id": "4b008d3b",
   "metadata": {},
   "outputs": [
    {
     "data": {
      "text/plain": [
       "{'k21': RandomForestRegressor(max_features=0.8, max_leaf_nodes=50, n_estimators=1000,\n",
       "                       n_jobs=20, random_state=14, verbose=True),\n",
       " 'k23': RandomForestRegressor(max_features=0.8, max_leaf_nodes=50, n_estimators=1000,\n",
       "                       n_jobs=20, random_state=14, verbose=True),\n",
       " 'k25': RandomForestRegressor(max_features=0.8, max_leaf_nodes=50, n_estimators=1000,\n",
       "                       n_jobs=20, random_state=14, verbose=True),\n",
       " 'k27': RandomForestRegressor(max_features=0.8, max_leaf_nodes=50, n_estimators=1000,\n",
       "                       n_jobs=20, random_state=14, verbose=True),\n",
       " 'k29': RandomForestRegressor(max_features=0.8, max_leaf_nodes=50, n_estimators=1000,\n",
       "                       n_jobs=20, random_state=14, verbose=True),\n",
       " 'k31': RandomForestRegressor(max_features=0.8, max_leaf_nodes=50, n_estimators=1000,\n",
       "                       n_jobs=20, random_state=14, verbose=True)}"
      ]
     },
     "execution_count": 100,
     "metadata": {},
     "output_type": "execute_result"
    }
   ],
   "source": [
    "loaded_regression_dic[0]"
   ]
  },
  {
   "cell_type": "code",
   "execution_count": 101,
   "id": "47f56467",
   "metadata": {},
   "outputs": [
    {
     "ename": "IndexError",
     "evalue": "tuple index out of range",
     "output_type": "error",
     "traceback": [
      "\u001b[0;31m---------------------------------------------------------------------------\u001b[0m",
      "\u001b[0;31mIndexError\u001b[0m                                Traceback (most recent call last)",
      "Cell \u001b[0;32mIn[101], line 1\u001b[0m\n\u001b[0;32m----> 1\u001b[0m \u001b[43mloaded_regression_dic\u001b[49m\u001b[43m[\u001b[49m\u001b[38;5;241;43m1\u001b[39;49m\u001b[43m]\u001b[49m\n",
      "\u001b[0;31mIndexError\u001b[0m: tuple index out of range"
     ]
    }
   ],
   "source": [
    "loaded_regression_dic[1]"
   ]
  },
  {
   "cell_type": "code",
   "execution_count": null,
   "id": "a3fd5b99",
   "metadata": {},
   "outputs": [],
   "source": []
  }
 ],
 "metadata": {
  "kernelspec": {
   "display_name": "lca",
   "language": "python",
   "name": "python3"
  },
  "language_info": {
   "codemirror_mode": {
    "name": "ipython",
    "version": 3
   },
   "file_extension": ".py",
   "mimetype": "text/x-python",
   "name": "python",
   "nbconvert_exporter": "python",
   "pygments_lexer": "ipython3",
   "version": "3.12.8"
  }
 },
 "nbformat": 4,
 "nbformat_minor": 5
}
