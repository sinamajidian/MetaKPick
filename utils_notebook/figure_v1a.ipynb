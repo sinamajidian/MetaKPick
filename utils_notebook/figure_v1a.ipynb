{
 "cells": [
  {
   "cell_type": "code",
   "execution_count": null,
   "id": "6b09289c",
   "metadata": {},
   "outputs": [],
   "source": [
    "a=2\n",
    "a"
   ]
  },
  {
   "cell_type": "code",
   "execution_count": 96,
   "id": "5d39c1c7",
   "metadata": {},
   "outputs": [
    {
     "data": {
      "text/plain": [
       "27"
      ]
     },
     "execution_count": 96,
     "metadata": {},
     "output_type": "execute_result"
    }
   ],
   "source": [
    "import os\n",
    "folder='../../runs/'\n",
    "logs= [i for i in os.listdir(folder) if i.endswith('log')]\n",
    "\n",
    "levels=['species','genus','family','order','class']\n",
    "len(logs)"
   ]
  },
  {
   "cell_type": "code",
   "execution_count": null,
   "id": "9d592697",
   "metadata": {},
   "outputs": [],
   "source": []
  },
  {
   "cell_type": "code",
   "execution_count": 110,
   "id": "656e3804",
   "metadata": {},
   "outputs": [],
   "source": [
    "cases=['k19','k21','k23','k25','k27','k29','k31','RF','Oracle','Random']\n",
    "log=logs[0]\n",
    "dic_values={}\n",
    "for level in levels:\n",
    "    dic_values[level]={}\n",
    "    for case in cases:\n",
    "        dic_values[level][case]={}\n",
    "\n",
    "for log in logs:\n",
    "    thr1,thr2,_ = [float(i) for i in log.split('decision3')[1].split('.log')[0].split('_') if i] # 'classify_cami_max15_80_long1931_80_6sep_npath__decision3_0.2_0.1_2.log'\n",
    "\n",
    "    with open(folder+log, 'r') as f:\n",
    "        lines = f.readlines()\n",
    "    for line in lines:\n",
    "        #if not line.startswith('2025-09'):\n",
    "        if line.startswith('=='):\n",
    "            line_split=line.strip().split(',')[0].split('_')\n",
    "            \n",
    "            if line_split[0][2:] in levels:\n",
    "                case=line_split[1]\n",
    "                level=line_split[0][2:]\n",
    "                F1=float(line.split(',')[1])\n",
    "                precision=float(line.split(',')[2])\n",
    "                recall=float(line.split(',')[3])\n",
    "                TP=int(line.split(',')[4])\n",
    "                FP=int(line.split(',')[5])\n",
    "                VP=int(line.split(',')[6].strip())\n",
    "                dic_values[level][case.strip()][(thr1,thr2)]={'F1':F1,'precision':precision,'recall':recall,'TP':TP,'FP':FP,'VP':VP}\n",
    "                #print(level,F1,precision,recall,TP,FP,VP)\n"
   ]
  },
  {
   "cell_type": "code",
   "execution_count": null,
   "id": "4a33fada",
   "metadata": {},
   "outputs": [],
   "source": []
  },
  {
   "cell_type": "code",
   "execution_count": null,
   "id": "aa66682c",
   "metadata": {},
   "outputs": [],
   "source": []
  },
  {
   "cell_type": "code",
   "execution_count": 140,
   "id": "45b29c2d",
   "metadata": {},
   "outputs": [
    {
     "data": {
      "text/plain": [
       "np.float64(0.884832)"
      ]
     },
     "execution_count": 140,
     "metadata": {},
     "output_type": "execute_result"
    }
   ],
   "source": [
    "import numpy as np\n",
    "level='genus' #'species'\n",
    "case='RF'\n",
    "thrs =[]\n",
    "F1s=[]\n",
    "for (thr1,thr2), dic_val in dic_values[level][case].items():\n",
    "    thrs.append(str(thr1)+'_'+str(thr2))\n",
    "    F1s.append(dic_val['F1'])\n",
    "    #print(thr1,thr2,dic_val['F1'])\n",
    "        \n",
    "np.mean(F1s)"
   ]
  },
  {
   "cell_type": "code",
   "execution_count": null,
   "id": "a60b28aa",
   "metadata": {},
   "outputs": [],
   "source": []
  },
  {
   "cell_type": "code",
   "execution_count": 141,
   "id": "50b7e887",
   "metadata": {},
   "outputs": [
    {
     "data": {
      "text/plain": [
       "(0.9064, 'k25')"
      ]
     },
     "execution_count": 141,
     "metadata": {},
     "output_type": "execute_result"
    }
   ],
   "source": [
    "cases_k= [i for i in cases if i.startswith('k')]\n",
    "cases_k\n",
    "F1_cases=[]\n",
    "for case in cases_k:\n",
    "    F1_cases.append(dic_values[level][case][(thr1,thr2)]['F1'])\n",
    "F1_max= max(F1_cases)\n",
    "case_k_max = cases_k[np.argmax(F1_cases)]\n",
    "F1_max,case_k_max"
   ]
  },
  {
   "cell_type": "code",
   "execution_count": 142,
   "id": "6b5239e7",
   "metadata": {},
   "outputs": [
    {
     "data": {
      "text/plain": [
       "(0.9035, '0.2_0.2')"
      ]
     },
     "execution_count": 142,
     "metadata": {},
     "output_type": "execute_result"
    }
   ],
   "source": [
    "max(F1s),thrs[np.argmax(F1s)]"
   ]
  },
  {
   "cell_type": "code",
   "execution_count": 151,
   "id": "1dcc529f",
   "metadata": {},
   "outputs": [
    {
     "data": {
      "image/png": "[encoded data removed]",
      "text/plain": [
       "<Figure size 640x480 with 1 Axes>"
      ]
     },
     "metadata": {},
     "output_type": "display_data"
    }
   ],
   "source": [
    "import matplotlib.pyplot as plt\n",
    "figure=plt.figure()\n",
    "plt.bar(thrs,F1s)\n",
    "plt.title(level)\n",
    "plt.xlabel('Threshold')\n",
    "plt.ylabel('F1 Score')\n",
    "plt.xticks(thrs, rotation=90)\n",
    "plt.tight_layout()\n",
    "plt.axhline(y=F1_max, color='red', linestyle='--')\n",
    "plt.text(23, 0.995*F1_max ,'max per k:'+case_k_max, ha='center', va='bottom',color='red') # 1.01\n",
    "#plt.ylim(0.78,0.82)\n",
    "plt.ylim(0.83,0.91)\n",
    "plt.show()"
   ]
  },
  {
   "cell_type": "code",
   "execution_count": null,
   "id": "70119519",
   "metadata": {},
   "outputs": [
    {
     "ename": "KeyError",
     "evalue": "'F1'",
     "output_type": "error",
     "traceback": [
      "\u001b[0;31m---------------------------------------------------------------------------\u001b[0m",
      "\u001b[0;31mKeyError\u001b[0m                                  Traceback (most recent call last)",
      "Cell \u001b[0;32mIn[56], line 5\u001b[0m\n\u001b[1;32m      2\u001b[0m level\u001b[38;5;241m=\u001b[39m\u001b[38;5;124m'\u001b[39m\u001b[38;5;124mspecies\u001b[39m\u001b[38;5;124m'\u001b[39m\n\u001b[1;32m      3\u001b[0m tresholds\u001b[38;5;241m=\u001b[39m \u001b[38;5;28mset\u001b[39m(dic_values\u001b[38;5;241m.\u001b[39mkeys())\n\u001b[0;32m----> 5\u001b[0m F1_values\u001b[38;5;241m=\u001b[39m[\u001b[43mdic_values\u001b[49m\u001b[43m[\u001b[49m\u001b[43mi\u001b[49m\u001b[43m]\u001b[49m\u001b[43m[\u001b[49m\u001b[43mlevel\u001b[49m\u001b[43m]\u001b[49m\u001b[43m[\u001b[49m\u001b[38;5;124;43m'\u001b[39;49m\u001b[38;5;124;43mF1\u001b[39;49m\u001b[38;5;124;43m'\u001b[39;49m\u001b[43m]\u001b[49m \u001b[38;5;28;01mfor\u001b[39;00m i \u001b[38;5;129;01min\u001b[39;00m tresholds]\n\u001b[1;32m      7\u001b[0m figure\u001b[38;5;241m=\u001b[39mplt\u001b[38;5;241m.\u001b[39mfigure()\n\u001b[1;32m      8\u001b[0m plt\u001b[38;5;241m.\u001b[39mbar(tresholds,F1_values)\n",
      "\u001b[0;31mKeyError\u001b[0m: 'F1'"
     ]
    }
   ],
   "source": [
    "\n",
    "# level='species'\n",
    "# tresholds= set(dic_values.keys())\n",
    "# cases=['k19','k21','k23','k25','k27','k29','k31','RF','Oracle','Random']\n",
    "# tresholds_case= level+'_'+case\n",
    "# F1_values=[dic_values[i][]['F1'] for i in tresholds]\n",
    "\n",
    "\n"
   ]
  },
  {
   "cell_type": "code",
   "execution_count": null,
   "id": "77b77a42",
   "metadata": {},
   "outputs": [],
   "source": []
  },
  {
   "cell_type": "code",
   "execution_count": 47,
   "id": "2e9802eb",
   "metadata": {},
   "outputs": [
    {
     "data": {
      "text/plain": [
       "{'F1': 0.9609,\n",
       " 'precision': 1.0,\n",
       " 'recall': 0.9248,\n",
       " 'TP': 61678,\n",
       " 'FP': 0,\n",
       " 'VP': 0}"
      ]
     },
     "execution_count": 47,
     "metadata": {},
     "output_type": "execute_result"
    }
   ],
   "source": [
    "dic_values[(thr1,thr2)][level]"
   ]
  },
  {
   "cell_type": "code",
   "execution_count": null,
   "id": "b084a50b",
   "metadata": {},
   "outputs": [
    {
     "ename": "NameError",
     "evalue": "name 'logs' is not defined",
     "output_type": "error",
     "traceback": [
      "\u001b[0;31m---------------------------------------------------------------------------\u001b[0m",
      "\u001b[0;31mNameError\u001b[0m                                 Traceback (most recent call last)",
      "Cell \u001b[0;32mIn[3], line 1\u001b[0m\n\u001b[0;32m----> 1\u001b[0m \u001b[38;5;28;01mfor\u001b[39;00m log \u001b[38;5;129;01min\u001b[39;00m \u001b[43mlogs\u001b[49m:\n\u001b[1;32m      2\u001b[0m     \u001b[38;5;28;01mwith\u001b[39;00m \u001b[38;5;28mopen\u001b[39m(log, \u001b[38;5;124m'\u001b[39m\u001b[38;5;124mr\u001b[39m\u001b[38;5;124m'\u001b[39m) \u001b[38;5;28;01mas\u001b[39;00m f:\n\u001b[1;32m      3\u001b[0m         lines \u001b[38;5;241m=\u001b[39m f\u001b[38;5;241m.\u001b[39mreadlines()\n",
      "\u001b[0;31mNameError\u001b[0m: name 'logs' is not defined"
     ]
    }
   ],
   "source": []
  },
  {
   "cell_type": "code",
   "execution_count": null,
   "id": "28bdb507",
   "metadata": {},
   "outputs": [],
   "source": []
  }
 ],
 "metadata": {
  "kernelspec": {
   "display_name": "lca",
   "language": "python",
   "name": "python3"
  },
  "language_info": {
   "codemirror_mode": {
    "name": "ipython",
    "version": 3
   },
   "file_extension": ".py",
   "mimetype": "text/x-python",
   "name": "python",
   "nbconvert_exporter": "python",
   "pygments_lexer": "ipython3",
   "version": "3.12.8"
  }
 },
 "nbformat": 4,
 "nbformat_minor": 5
}
