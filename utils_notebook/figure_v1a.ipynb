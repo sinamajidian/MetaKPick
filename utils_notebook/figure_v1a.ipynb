{
 "cells": [
  {
   "cell_type": "code",
   "execution_count": 3,
   "id": "6b09289c",
   "metadata": {},
   "outputs": [
    {
     "data": {
      "text/plain": [
       "(0.9349632400922261, 0.9775090268412581)"
      ]
     },
     "execution_count": 3,
     "metadata": {},
     "output_type": "execute_result"
    }
   ],
   "source": [
    "a=2\n",
    "a\n",
    "min(accs),max(accs)"
   ]
  },
  {
   "cell_type": "code",
   "execution_count": 2,
   "id": "c9af1529",
   "metadata": {},
   "outputs": [
    {
     "data": {
      "image/png": "[encoded data removed]",
      "text/plain": [
       "<Figure size 640x480 with 1 Axes>"
      ]
     },
     "metadata": {},
     "output_type": "display_data"
    }
   ],
   "source": [
    "import matplotlib.pyplot as plt\n",
    "k=[19,21,23,25,27,29,31]\n",
    "accs=[0.9349632400922261,0.9434172938327461,0.9535389568016706,0.9633706007743508,0.9703600585838372,0.9746523397282522,0.9775090268412581]\n",
    "\n",
    "plt.bar(k,accs)\n",
    "plt.xlabel('K-mer size')\n",
    "plt.ylabel('Accuracy')\n",
    "xticks= [str(i) for i in k]\n",
    "plt.xticks(k, xticks)\n",
    "plt.show()\n",
    "\n",
    "#train_max15_80_long1931_80_15sep_topRF_10trees_7Features_10leaves_.log\n",
    "# 2025-09-17 10:03:14,096 - DEBUG - Accuracy for case k19 is 0.9349632400922261\n",
    "# 2025-09-17 10:03:43,112 - DEBUG -  Accuracy of the model is 0.9434172938327461\n",
    "# 2025-09-17 10:03:43,112 - DEBUG - Accuracy for case k21 is 0.9434172938327461\n",
    "# 2025-09-17 10:04:10,340 - DEBUG -  Accuracy of the model is 0.9535389568016706\n",
    "# 2025-09-17 10:04:10,340 - DEBUG - Accuracy for case k23 is 0.9535389568016706\n",
    "# 2025-09-17 10:04:34,452 - DEBUG -  Accuracy of the model is 0.9633706007743508\n",
    "# 2025-09-17 10:04:34,452 - DEBUG - Accuracy for case k25 is 0.9633706007743508\n",
    "# 2025-09-17 10:04:55,306 - DEBUG -  Accuracy of the model is 0.9703600585838372\n",
    "# 2025-09-17 10:04:55,306 - DEBUG - Accuracy for case k27 is 0.9703600585838372\n",
    "# 2025-09-17 10:05:13,801 - DEBUG -  Accuracy of the model is 0.9746523397282522\n",
    "# 2025-09-17 10:05:13,801 - DEBUG - Accuracy for case k29 is 0.9746523397282522\n",
    "# 2025-09-17 10:05:30,841 - DEBUG -  Accuracy of the model is 0.9775090268412581\n",
    "# 2025-09-17 10:05:30,842 - DEBUG - Accuracy for case k31 is 0.9775090268412581"
   ]
  },
  {
   "cell_type": "code",
   "execution_count": 1,
   "id": "5d39c1c7",
   "metadata": {},
   "outputs": [
    {
     "data": {
      "text/plain": [
       "20"
      ]
     },
     "execution_count": 1,
     "metadata": {},
     "output_type": "execute_result"
    }
   ],
   "source": [
    "import os\n",
    "folder='../../runs/'\n",
    "logs= [i for i in os.listdir(folder) if i.endswith('log')]\n",
    "\n",
    "levels=['species','genus','family','order','class']\n",
    "len(logs)"
   ]
  },
  {
   "cell_type": "code",
   "execution_count": 5,
   "id": "ccc35c06",
   "metadata": {},
   "outputs": [
    {
     "ename": "FileNotFoundError",
     "evalue": "[Errno 2] No such file or directory: '../../runs/classify_cami_plant_long0_20k_long1931_80_15sep_topRF_20trees_7Features_20leaves_topRF.log'",
     "output_type": "error",
     "traceback": [
      "\u001b[0;31m---------------------------------------------------------------------------\u001b[0m",
      "\u001b[0;31mFileNotFoundError\u001b[0m                         Traceback (most recent call last)",
      "Cell \u001b[0;32mIn[5], line 14\u001b[0m\n\u001b[1;32m     10\u001b[0m \u001b[38;5;28;01mfor\u001b[39;00m (thr1,thr2,thr3) \u001b[38;5;129;01min\u001b[39;00m tresholds_treesleaves:\n\u001b[1;32m     11\u001b[0m     \u001b[38;5;66;03m#log=\"classify_sim80_max15_80_long1931_80_15sep_topRF_\"+str(thr1)+\"trees_\"+str(thr3)+\"Features_\"+str(thr2)+\"leaves_topRF.log\"\u001b[39;00m\n\u001b[1;32m     12\u001b[0m     log\u001b[38;5;241m=\u001b[39m\u001b[38;5;124m\"\u001b[39m\u001b[38;5;124mclassify_cami_plant_long0_20k_long1931_80_15sep_topRF_\u001b[39m\u001b[38;5;124m\"\u001b[39m\u001b[38;5;241m+\u001b[39m\u001b[38;5;28mstr\u001b[39m(thr1)\u001b[38;5;241m+\u001b[39m\u001b[38;5;124m\"\u001b[39m\u001b[38;5;124mtrees_\u001b[39m\u001b[38;5;124m\"\u001b[39m\u001b[38;5;241m+\u001b[39m\u001b[38;5;28mstr\u001b[39m(thr3)\u001b[38;5;241m+\u001b[39m\u001b[38;5;124m\"\u001b[39m\u001b[38;5;124mFeatures_\u001b[39m\u001b[38;5;124m\"\u001b[39m\u001b[38;5;241m+\u001b[39m\u001b[38;5;28mstr\u001b[39m(thr2)\u001b[38;5;241m+\u001b[39m\u001b[38;5;124m\"\u001b[39m\u001b[38;5;124mleaves_topRF.log\u001b[39m\u001b[38;5;124m\"\u001b[39m\n\u001b[0;32m---> 14\u001b[0m     \u001b[38;5;28;01mwith\u001b[39;00m \u001b[38;5;28;43mopen\u001b[39;49m\u001b[43m(\u001b[49m\u001b[43mfolder\u001b[49m\u001b[38;5;241;43m+\u001b[39;49m\u001b[43mlog\u001b[49m\u001b[43m,\u001b[49m\u001b[43m \u001b[49m\u001b[38;5;124;43m'\u001b[39;49m\u001b[38;5;124;43mr\u001b[39;49m\u001b[38;5;124;43m'\u001b[39;49m\u001b[43m)\u001b[49m \u001b[38;5;28;01mas\u001b[39;00m f:\n\u001b[1;32m     15\u001b[0m         lines \u001b[38;5;241m=\u001b[39m f\u001b[38;5;241m.\u001b[39mreadlines()\n\u001b[1;32m     16\u001b[0m     \u001b[38;5;28;01mfor\u001b[39;00m line \u001b[38;5;129;01min\u001b[39;00m lines:\n\u001b[1;32m     17\u001b[0m         \u001b[38;5;66;03m#if not line.startswith('2025-09'):\u001b[39;00m\n",
      "File \u001b[0;32m/scratch16/blangme2/smajidi5/miniconda3/envs/lca/lib/python3.12/site-packages/IPython/core/interactiveshell.py:324\u001b[0m, in \u001b[0;36m_modified_open\u001b[0;34m(file, *args, **kwargs)\u001b[0m\n\u001b[1;32m    317\u001b[0m \u001b[38;5;28;01mif\u001b[39;00m file \u001b[38;5;129;01min\u001b[39;00m {\u001b[38;5;241m0\u001b[39m, \u001b[38;5;241m1\u001b[39m, \u001b[38;5;241m2\u001b[39m}:\n\u001b[1;32m    318\u001b[0m     \u001b[38;5;28;01mraise\u001b[39;00m \u001b[38;5;167;01mValueError\u001b[39;00m(\n\u001b[1;32m    319\u001b[0m         \u001b[38;5;124mf\u001b[39m\u001b[38;5;124m\"\u001b[39m\u001b[38;5;124mIPython won\u001b[39m\u001b[38;5;124m'\u001b[39m\u001b[38;5;124mt let you open fd=\u001b[39m\u001b[38;5;132;01m{\u001b[39;00mfile\u001b[38;5;132;01m}\u001b[39;00m\u001b[38;5;124m by default \u001b[39m\u001b[38;5;124m\"\u001b[39m\n\u001b[1;32m    320\u001b[0m         \u001b[38;5;124m\"\u001b[39m\u001b[38;5;124mas it is likely to crash IPython. If you know what you are doing, \u001b[39m\u001b[38;5;124m\"\u001b[39m\n\u001b[1;32m    321\u001b[0m         \u001b[38;5;124m\"\u001b[39m\u001b[38;5;124myou can use builtins\u001b[39m\u001b[38;5;124m'\u001b[39m\u001b[38;5;124m open.\u001b[39m\u001b[38;5;124m\"\u001b[39m\n\u001b[1;32m    322\u001b[0m     )\n\u001b[0;32m--> 324\u001b[0m \u001b[38;5;28;01mreturn\u001b[39;00m \u001b[43mio_open\u001b[49m\u001b[43m(\u001b[49m\u001b[43mfile\u001b[49m\u001b[43m,\u001b[49m\u001b[43m \u001b[49m\u001b[38;5;241;43m*\u001b[39;49m\u001b[43margs\u001b[49m\u001b[43m,\u001b[49m\u001b[43m \u001b[49m\u001b[38;5;241;43m*\u001b[39;49m\u001b[38;5;241;43m*\u001b[39;49m\u001b[43mkwargs\u001b[49m\u001b[43m)\u001b[49m\n",
      "\u001b[0;31mFileNotFoundError\u001b[0m: [Errno 2] No such file or directory: '../../runs/classify_cami_plant_long0_20k_long1931_80_15sep_topRF_20trees_7Features_20leaves_topRF.log'"
     ]
    }
   ],
   "source": [
    "tresholds_treesleaves= [ (10,10,7), (20,20,7), (10,10,11), (20,15,11), (20,20,11)]\n",
    "cases=['k19','k21','k23','k25','k27','k29','k31','RF','Oracle','Random']\n",
    "\n",
    "dic_values={}\n",
    "for level in levels:\n",
    "    dic_values[level]={}\n",
    "    for case in cases:\n",
    "        dic_values[level][case]={}\n",
    "\n",
    "for (thr1,thr2,thr3) in tresholds_treesleaves:\n",
    "    #log=\"classify_sim80_max15_80_long1931_80_15sep_topRF_\"+str(thr1)+\"trees_\"+str(thr3)+\"Features_\"+str(thr2)+\"leaves_topRF.log\"\n",
    "    log=\"classify_cami_plant_long0_20k_long1931_80_15sep_topRF_\"+str(thr1)+\"trees_\"+str(thr3)+\"Features_\"+str(thr2)+\"leaves_topRF.log\"\n",
    "\n",
    "    with open(folder+log, 'r') as f:\n",
    "        lines = f.readlines()\n",
    "    for line in lines:\n",
    "        #if not line.startswith('2025-09'):\n",
    "        if line.startswith('=='):\n",
    "            line_split=line.strip().split(',')[0].split('_')\n",
    "            \n",
    "            if line_split[0][2:] in levels:\n",
    "                case=line_split[1]\n",
    "                level=line_split[0][2:]\n",
    "                F1=float(line.split(',')[1])\n",
    "                precision=float(line.split(',')[2])\n",
    "                recall=float(line.split(',')[3])\n",
    "                TP=int(line.split(',')[4])\n",
    "                FP=int(line.split(',')[5])\n",
    "                VP=int(line.split(',')[6].strip())\n",
    "                dic_values[level][case.strip()][(thr1,thr2,thr3)]={'F1':F1,'precision':precision,'recall':recall,'TP':TP,'FP':FP,'VP':VP}\n",
    "                #print(level,F1,precision,recall,TP,FP,VP)\n",
    "\n",
    "import numpy as np\n",
    "level='genus' #'species' genus genus\n",
    "case='RF'\n",
    "thrs =[]\n",
    "F1s=[]\n",
    "for (thr1,thr2,thr3), dic_val in dic_values[level][case].items():\n",
    "    thrs.append(str(thr1)+'_'+str(thr2)+'_'+str(thr3))\n",
    "    F1s.append(dic_val['F1'])\n",
    "    #print(thr1,thr2,dic_val['F1'])\n",
    "        \n",
    "np.mean(F1s)\n",
    "\n",
    "cases_k= [i for i in cases if i.startswith('k')]\n",
    "cases_k\n",
    "F1_cases=[]\n",
    "for case in cases_k:\n",
    "    F1_cases.append(dic_values[level][case][(thr1,thr2,thr3)]['F1'])\n",
    "F1_max= max(F1_cases)\n",
    "case_k_max = cases_k[np.argmax(F1_cases)]\n",
    "F1_max,case_k_max\n"
   ]
  },
  {
   "cell_type": "code",
   "execution_count": 3,
   "id": "8e78fd97",
   "metadata": {},
   "outputs": [
    {
     "ename": "NameError",
     "evalue": "name 'thrs' is not defined",
     "output_type": "error",
     "traceback": [
      "\u001b[0;31m---------------------------------------------------------------------------\u001b[0m",
      "\u001b[0;31mNameError\u001b[0m                                 Traceback (most recent call last)",
      "Cell \u001b[0;32mIn[3], line 3\u001b[0m\n\u001b[1;32m      1\u001b[0m \u001b[38;5;28;01mimport\u001b[39;00m \u001b[38;5;21;01mmatplotlib\u001b[39;00m\u001b[38;5;21;01m.\u001b[39;00m\u001b[38;5;21;01mpyplot\u001b[39;00m \u001b[38;5;28;01mas\u001b[39;00m \u001b[38;5;21;01mplt\u001b[39;00m\n\u001b[1;32m      2\u001b[0m figure\u001b[38;5;241m=\u001b[39mplt\u001b[38;5;241m.\u001b[39mfigure()\n\u001b[0;32m----> 3\u001b[0m plt\u001b[38;5;241m.\u001b[39mbar(\u001b[43mthrs\u001b[49m,F1s)\n\u001b[1;32m      4\u001b[0m plt\u001b[38;5;241m.\u001b[39mtitle(level)\n\u001b[1;32m      5\u001b[0m plt\u001b[38;5;241m.\u001b[39mxlabel(\u001b[38;5;124m'\u001b[39m\u001b[38;5;124mTrees_leaves_features\u001b[39m\u001b[38;5;124m'\u001b[39m)\n",
      "\u001b[0;31mNameError\u001b[0m: name 'thrs' is not defined"
     ]
    },
    {
     "data": {
      "text/plain": [
       "<Figure size 640x480 with 0 Axes>"
      ]
     },
     "metadata": {},
     "output_type": "display_data"
    }
   ],
   "source": [
    "import matplotlib.pyplot as plt\n",
    "figure=plt.figure()\n",
    "plt.bar(thrs,F1s)\n",
    "plt.title(level)\n",
    "plt.xlabel('Trees_leaves_features')\n",
    "plt.ylabel('F1 Score')\n",
    "plt.xticks(thrs, rotation=90)\n",
    "plt.tight_layout()\n",
    "plt.axhline(y=F1_max, color='red', linestyle='--')\n",
    "plt.text(2, 0.999*F1_max ,'max per k:'+case_k_max, ha='center', va='bottom',color='red') # 1.01\n",
    "#plt.ylim(0.795,0.815)\n",
    "plt.ylim(0.895,0.915)\n",
    "plt.show()"
   ]
  },
  {
   "cell_type": "code",
   "execution_count": null,
   "id": "9d592697",
   "metadata": {},
   "outputs": [],
   "source": []
  },
  {
   "cell_type": "code",
   "execution_count": null,
   "id": "656e3804",
   "metadata": {},
   "outputs": [],
   "source": [
    "import os\n",
    "folder='../../runs/decision3_thresholds/' \n",
    "logs= [i for i in os.listdir(folder) if i.endswith('log')]\n",
    "\n",
    "levels=['species','genus','family','order','class']\n",
    "len(logs)\n",
    "\n",
    "cases=['k19','k21','k23','k25','k27','k29','k31','RF','Oracle','Random']\n",
    "log=logs[0]\n",
    "dic_values={}\n",
    "for level in levels:\n",
    "    dic_values[level]={}\n",
    "    for case in cases:\n",
    "        dic_values[level][case]={}\n",
    "\n",
    "for log in logs:\n",
    "    thr1,thr2,_ = [float(i) for i in log.split('decision3')[1].split('.log')[0].split('_') if i] # 'classify_cami_max15_80_long1931_80_6sep_npath__decision3_0.2_0.1_2.log'\n",
    "\n",
    "    with open(folder+log, 'r') as f:\n",
    "        lines = f.readlines()\n",
    "    for line in lines:\n",
    "        #if not line.startswith('2025-09'):\n",
    "        if line.startswith('=='):\n",
    "            line_split=line.strip().split(',')[0].split('_')\n",
    "            \n",
    "            if line_split[0][2:] in levels:\n",
    "                case=line_split[1]\n",
    "                level=line_split[0][2:]\n",
    "                F1=float(line.split(',')[1])\n",
    "                precision=float(line.split(',')[2])\n",
    "                recall=float(line.split(',')[3])\n",
    "                TP=int(line.split(',')[4])\n",
    "                FP=int(line.split(',')[5])\n",
    "                VP=int(line.split(',')[6].strip())\n",
    "                dic_values[level][case.strip()][(thr1,thr2)]={'F1':F1,'precision':precision,'recall':recall,'TP':TP,'FP':FP,'VP':VP}\n",
    "                #print(level,F1,precision,recall,TP,FP,VP)\n",
    "\n",
    "import numpy as np\n",
    "level='genus' #'species'\n",
    "case='RF'\n",
    "thrs =[]\n",
    "F1s=[]\n",
    "for (thr1,thr2), dic_val in dic_values[level][case].items():\n",
    "    thrs.append(str(thr1)+'_'+str(thr2))\n",
    "    F1s.append(dic_val['F1'])\n",
    "    #print(thr1,thr2,dic_val['F1'])\n",
    "        \n",
    "np.mean(F1s)\n",
    "\n",
    "cases_k= [i for i in cases if i.startswith('k')]\n",
    "cases_k\n",
    "F1_cases=[]\n",
    "for case in cases_k:\n",
    "    F1_cases.append(dic_values[level][case][(thr1,thr2)]['F1'])\n",
    "F1_max= max(F1_cases)\n",
    "case_k_max = cases_k[np.argmax(F1_cases)]\n",
    "F1_max,case_k_max"
   ]
  },
  {
   "cell_type": "code",
   "execution_count": null,
   "id": "4a33fada",
   "metadata": {},
   "outputs": [],
   "source": [
    "import matplotlib.pyplot as plt\n",
    "figure=plt.figure()\n",
    "plt.bar(thrs,F1s)\n",
    "plt.title(level)\n",
    "plt.xlabel('Threshold')\n",
    "plt.ylabel('F1 Score')\n",
    "plt.xticks(thrs, rotation=90)\n",
    "plt.tight_layout()\n",
    "plt.axhline(y=F1_max, color='red', linestyle='--')\n",
    "plt.text(23, 0.995*F1_max ,'max per k:'+case_k_max, ha='center', va='bottom',color='red') # 1.01\n",
    "#plt.ylim(0.78,0.82)\n",
    "plt.ylim(0.83,0.91)\n",
    "plt.show()"
   ]
  },
  {
   "cell_type": "code",
   "execution_count": null,
   "id": "aa66682c",
   "metadata": {},
   "outputs": [],
   "source": []
  },
  {
   "cell_type": "code",
   "execution_count": null,
   "id": "45b29c2d",
   "metadata": {},
   "outputs": [
    {
     "data": {
      "text/plain": [
       "np.float64(0.884832)"
      ]
     },
     "execution_count": 140,
     "metadata": {},
     "output_type": "execute_result"
    }
   ],
   "source": []
  },
  {
   "cell_type": "code",
   "execution_count": null,
   "id": "a60b28aa",
   "metadata": {},
   "outputs": [],
   "source": []
  },
  {
   "cell_type": "code",
   "execution_count": null,
   "id": "50b7e887",
   "metadata": {},
   "outputs": [
    {
     "data": {
      "text/plain": [
       "(0.9064, 'k25')"
      ]
     },
     "execution_count": 141,
     "metadata": {},
     "output_type": "execute_result"
    }
   ],
   "source": []
  },
  {
   "cell_type": "code",
   "execution_count": 142,
   "id": "6b5239e7",
   "metadata": {},
   "outputs": [
    {
     "data": {
      "text/plain": [
       "(0.9035, '0.2_0.2')"
      ]
     },
     "execution_count": 142,
     "metadata": {},
     "output_type": "execute_result"
    }
   ],
   "source": [
    "max(F1s),thrs[np.argmax(F1s)]"
   ]
  },
  {
   "cell_type": "code",
   "execution_count": null,
   "id": "1dcc529f",
   "metadata": {},
   "outputs": [],
   "source": []
  },
  {
   "cell_type": "code",
   "execution_count": null,
   "id": "70119519",
   "metadata": {},
   "outputs": [
    {
     "ename": "KeyError",
     "evalue": "'F1'",
     "output_type": "error",
     "traceback": [
      "\u001b[0;31m---------------------------------------------------------------------------\u001b[0m",
      "\u001b[0;31mKeyError\u001b[0m                                  Traceback (most recent call last)",
      "Cell \u001b[0;32mIn[56], line 5\u001b[0m\n\u001b[1;32m      2\u001b[0m level\u001b[38;5;241m=\u001b[39m\u001b[38;5;124m'\u001b[39m\u001b[38;5;124mspecies\u001b[39m\u001b[38;5;124m'\u001b[39m\n\u001b[1;32m      3\u001b[0m tresholds\u001b[38;5;241m=\u001b[39m \u001b[38;5;28mset\u001b[39m(dic_values\u001b[38;5;241m.\u001b[39mkeys())\n\u001b[0;32m----> 5\u001b[0m F1_values\u001b[38;5;241m=\u001b[39m[\u001b[43mdic_values\u001b[49m\u001b[43m[\u001b[49m\u001b[43mi\u001b[49m\u001b[43m]\u001b[49m\u001b[43m[\u001b[49m\u001b[43mlevel\u001b[49m\u001b[43m]\u001b[49m\u001b[43m[\u001b[49m\u001b[38;5;124;43m'\u001b[39;49m\u001b[38;5;124;43mF1\u001b[39;49m\u001b[38;5;124;43m'\u001b[39;49m\u001b[43m]\u001b[49m \u001b[38;5;28;01mfor\u001b[39;00m i \u001b[38;5;129;01min\u001b[39;00m tresholds]\n\u001b[1;32m      7\u001b[0m figure\u001b[38;5;241m=\u001b[39mplt\u001b[38;5;241m.\u001b[39mfigure()\n\u001b[1;32m      8\u001b[0m plt\u001b[38;5;241m.\u001b[39mbar(tresholds,F1_values)\n",
      "\u001b[0;31mKeyError\u001b[0m: 'F1'"
     ]
    }
   ],
   "source": [
    "\n",
    "# level='species'\n",
    "# tresholds= set(dic_values.keys())\n",
    "# cases=['k19','k21','k23','k25','k27','k29','k31','RF','Oracle','Random']\n",
    "# tresholds_case= level+'_'+case\n",
    "# F1_values=[dic_values[i][]['F1'] for i in tresholds]\n",
    "\n",
    "\n"
   ]
  },
  {
   "cell_type": "code",
   "execution_count": null,
   "id": "77b77a42",
   "metadata": {},
   "outputs": [],
   "source": []
  },
  {
   "cell_type": "code",
   "execution_count": 47,
   "id": "2e9802eb",
   "metadata": {},
   "outputs": [
    {
     "data": {
      "text/plain": [
       "{'F1': 0.9609,\n",
       " 'precision': 1.0,\n",
       " 'recall': 0.9248,\n",
       " 'TP': 61678,\n",
       " 'FP': 0,\n",
       " 'VP': 0}"
      ]
     },
     "execution_count": 47,
     "metadata": {},
     "output_type": "execute_result"
    }
   ],
   "source": [
    "dic_values[(thr1,thr2)][level]"
   ]
  },
  {
   "cell_type": "code",
   "execution_count": null,
   "id": "b084a50b",
   "metadata": {},
   "outputs": [
    {
     "ename": "NameError",
     "evalue": "name 'logs' is not defined",
     "output_type": "error",
     "traceback": [
      "\u001b[0;31m---------------------------------------------------------------------------\u001b[0m",
      "\u001b[0;31mNameError\u001b[0m                                 Traceback (most recent call last)",
      "Cell \u001b[0;32mIn[3], line 1\u001b[0m\n\u001b[0;32m----> 1\u001b[0m \u001b[38;5;28;01mfor\u001b[39;00m log \u001b[38;5;129;01min\u001b[39;00m \u001b[43mlogs\u001b[49m:\n\u001b[1;32m      2\u001b[0m     \u001b[38;5;28;01mwith\u001b[39;00m \u001b[38;5;28mopen\u001b[39m(log, \u001b[38;5;124m'\u001b[39m\u001b[38;5;124mr\u001b[39m\u001b[38;5;124m'\u001b[39m) \u001b[38;5;28;01mas\u001b[39;00m f:\n\u001b[1;32m      3\u001b[0m         lines \u001b[38;5;241m=\u001b[39m f\u001b[38;5;241m.\u001b[39mreadlines()\n",
      "\u001b[0;31mNameError\u001b[0m: name 'logs' is not defined"
     ]
    }
   ],
   "source": []
  },
  {
   "cell_type": "code",
   "execution_count": null,
   "id": "28bdb507",
   "metadata": {},
   "outputs": [],
   "source": []
  }
 ],
 "metadata": {
  "kernelspec": {
   "display_name": "lca",
   "language": "python",
   "name": "python3"
  },
  "language_info": {
   "codemirror_mode": {
    "name": "ipython",
    "version": 3
   },
   "file_extension": ".py",
   "mimetype": "text/x-python",
   "name": "python",
   "nbconvert_exporter": "python",
   "pygments_lexer": "ipython3",
   "version": "3.12.8"
  }
 },
 "nbformat": 4,
 "nbformat_minor": 5
}
