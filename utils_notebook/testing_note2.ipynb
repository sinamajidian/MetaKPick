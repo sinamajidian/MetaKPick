{
 "cells": [
  {
   "cell_type": "code",
   "execution_count": 2,
   "id": "3e34afd2",
   "metadata": {},
   "outputs": [
    {
     "data": {
      "text/plain": [
       "<module '_classifier' from '/vast/blangme2/smajidi5/metagenomics/metakpick_project/MetaKPick/notebook/../metakpick/_classifier.py'>"
      ]
     },
     "execution_count": 2,
     "metadata": {},
     "output_type": "execute_result"
    }
   ],
   "source": [
    "a=2\n",
    "a\n",
    "b=2\n",
    "import pandas as pd\n",
    "import os\n",
    "import logging\n",
    "from collections import Counter\n",
    "\n",
    "import sys\n",
    "sys.path.append(\"../metakpick/\")\n",
    "\n",
    "import _utils_tree, _utils_kraken,_classifier, _classifier\n",
    "# from _utils  import get_features_read\n",
    "import importlib \n",
    "importlib.reload(_utils_tree)\n",
    "importlib.reload(_utils_kraken)\n",
    "importlib.reload(_classifier)\n",
    "importlib.reload(_classifier)\n"
   ]
  },
  {
   "cell_type": "code",
   "execution_count": 3,
   "id": "626fd6dd",
   "metadata": {},
   "outputs": [
    {
     "name": "stderr",
     "output_type": "stream",
     "text": [
      "2025-09-04 22:52:49,311 - INFO - hi\n",
      "2025-09-04 22:52:49,312 - INFO - Reading kraken's k-mer count per tax from: /vast/blangme2/smajidi5/metagenomics/changek/simulatation/classification_pbsim/max15/\n",
      "2025-09-04 22:52:49,313 - INFO - Reading kraken file for case: k31\n",
      "2025-09-04 22:52:52,782 - INFO - Number of reads for case: k31 is: 86202\n"
     ]
    }
   ],
   "source": [
    "\n",
    "logging.basicConfig(level=logging.DEBUG,format='%(asctime)s - %(levelname)s - %(message)s')\n",
    "logging.info(\"hi\")\n",
    "\n",
    "kraken_output_folder=\"/vast/blangme2/smajidi5/metagenomics/changek/simulatation/classification_pbsim/max15/\"\n",
    "#\"/vast/blangme2/smajidi5/metagenomics/changek/kraken1/cami_plant_long0_20k/\"\n",
    "\n",
    "cases=['k31'] #list(kraken_kmers_cases.keys())\n",
    "read_names_list, kraken_kmers_cases = _utils_kraken.read_kraken_all(cases, kraken_output_folder)\n",
    "\n",
    "read_names_list2=list(read_names_list)[:1000]"
   ]
  },
  {
   "cell_type": "code",
   "execution_count": 4,
   "id": "d2e00a10",
   "metadata": {},
   "outputs": [],
   "source": [
    "read_l = set(list(kraken_kmers_cases['k31'].keys())[:1000])"
   ]
  },
  {
   "cell_type": "code",
   "execution_count": 12,
   "id": "f0658ff5",
   "metadata": {},
   "outputs": [
    {
     "name": "stdout",
     "output_type": "stream",
     "text": [
      "k17\n",
      "k19\n",
      "k21\n",
      "k23\n",
      "k25\n",
      "k27\n",
      "k29\n",
      "k31\n"
     ]
    }
   ],
   "source": [
    "fol=\"/vast/blangme2/smajidi5/metagenomics/changek/simulatation/classification_pbsim/max15/\"\n",
    "for case in ['k17','k19','k21','k23','k25','k27','k29','k31']:\n",
    "    print(case)\n",
    "    f= open(fol+case+\"_out\",'r')\n",
    "    f_out= open(fol+'t1k/'+case+\"_out\",'w')\n",
    "    for line in f:\n",
    "        line_split=line.strip().split()\n",
    "        read_name=line_split[1]\n",
    "        if read_name in read_l:\n",
    "            f_out.write(line.strip()+'\\n')\n",
    "    f_out.close()\n",
    "    f.close()\n"
   ]
  },
  {
   "cell_type": "code",
   "execution_count": 13,
   "id": "c23b7b6f",
   "metadata": {},
   "outputs": [],
   "source": [
    "fol=\"/vast/blangme2/smajidi5/metagenomics/changek/simulatation/classification_pbsim/max15/\"\n",
    "f= open(fol+'true_tax_max15.csv','r')\n",
    "f_out= open(fol+'t1k/true_tax.csv','w')\n",
    "for line in f:\n",
    "    if line.strip():\n",
    "        line_split=line.strip().split(',')\n",
    "        read_name=line_split[0]\n",
    "        if read_name in read_l:\n",
    "            f_out.write(line.strip()+'\\n')\n",
    "f_out.close()\n",
    "f.close()\n"
   ]
  },
  {
   "cell_type": "code",
   "execution_count": null,
   "id": "b6110b66",
   "metadata": {},
   "outputs": [],
   "source": []
  }
 ],
 "metadata": {
  "kernelspec": {
   "display_name": "lca",
   "language": "python",
   "name": "python3"
  },
  "language_info": {
   "codemirror_mode": {
    "name": "ipython",
    "version": 3
   },
   "file_extension": ".py",
   "mimetype": "text/x-python",
   "name": "python",
   "nbconvert_exporter": "python",
   "pygments_lexer": "ipython3",
   "version": "3.12.8"
  }
 },
 "nbformat": 4,
 "nbformat_minor": 5
}
